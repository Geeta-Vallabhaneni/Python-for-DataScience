{
 "cells": [
  {
   "cell_type": "markdown",
   "id": "6fe66405-6127-4274-ae79-88b777001703",
   "metadata": {},
   "source": [
    "# Samanyastra - Python For Data Science\n",
    "## Assignment 3\n",
    "---\n",
    "\n",
    "\n",
    "**Dataset Information**\n",
    "\n",
    "- Name: titanic.csv\n",
    "- Rows: 891\n",
    "- columns: 12\n",
    "\n",
    "**Columns information (Data Dictionary)**\n",
    "```\n",
    "PassengerId: A unique identifier for each passenger.\n",
    "\n",
    "Survived: Indicates whether the passenger survived (1) or not (0).\n",
    "\n",
    "Pclass: The passenger class (1 = 1st, 2 = 2nd, 3 = 3rd).\n",
    "\n",
    "Name: The name of the passenger.\n",
    "\n",
    "Sex: The gender of the passenger.\n",
    "\n",
    "Age: The age of the passenger.\n",
    "\n",
    "SibSp: The number of siblings or spouses aboard the Titanic.\n",
    "\n",
    "Parch: The number of parents or children aboard the Titanic.\n",
    "\n",
    "Ticket: The ticket number.\n",
    "\n",
    "Fare: The fare paid by the passenger.\n",
    "\n",
    "Cabin: The cabin number.\n",
    "\n",
    "Embarked: The port of embarkation (C = Cherbourg, Q = Queenstown, S = Southampton)\n",
    "```"
   ]
  },
  {
   "cell_type": "code",
   "execution_count": 2,
   "id": "1ebc596e-d620-4a1c-a2fb-5322d950cda2",
   "metadata": {},
   "outputs": [
    {
     "name": "stdout",
     "output_type": "stream",
     "text": [
      "Requirement already satisfied: pandas in c:\\users\\kranthi kumar\\appdata\\local\\programs\\python\\python313\\lib\\site-packages (2.3.1)\n",
      "Requirement already satisfied: openpyxl in c:\\users\\kranthi kumar\\appdata\\local\\programs\\python\\python313\\lib\\site-packages (3.1.5)\n",
      "Requirement already satisfied: seaborn in c:\\users\\kranthi kumar\\appdata\\local\\programs\\python\\python313\\lib\\site-packages (0.13.2)\n",
      "Requirement already satisfied: matplotlib in c:\\users\\kranthi kumar\\appdata\\local\\programs\\python\\python313\\lib\\site-packages (3.10.5)\n",
      "Requirement already satisfied: numpy>=1.26.0 in c:\\users\\kranthi kumar\\appdata\\local\\programs\\python\\python313\\lib\\site-packages (from pandas) (2.3.2)\n",
      "Requirement already satisfied: python-dateutil>=2.8.2 in c:\\users\\kranthi kumar\\appdata\\local\\programs\\python\\python313\\lib\\site-packages (from pandas) (2.9.0.post0)\n",
      "Requirement already satisfied: pytz>=2020.1 in c:\\users\\kranthi kumar\\appdata\\local\\programs\\python\\python313\\lib\\site-packages (from pandas) (2025.2)\n",
      "Requirement already satisfied: tzdata>=2022.7 in c:\\users\\kranthi kumar\\appdata\\local\\programs\\python\\python313\\lib\\site-packages (from pandas) (2025.2)\n",
      "Requirement already satisfied: et-xmlfile in c:\\users\\kranthi kumar\\appdata\\local\\programs\\python\\python313\\lib\\site-packages (from openpyxl) (2.0.0)\n",
      "Requirement already satisfied: contourpy>=1.0.1 in c:\\users\\kranthi kumar\\appdata\\local\\programs\\python\\python313\\lib\\site-packages (from matplotlib) (1.3.3)\n",
      "Requirement already satisfied: cycler>=0.10 in c:\\users\\kranthi kumar\\appdata\\local\\programs\\python\\python313\\lib\\site-packages (from matplotlib) (0.12.1)\n",
      "Requirement already satisfied: fonttools>=4.22.0 in c:\\users\\kranthi kumar\\appdata\\local\\programs\\python\\python313\\lib\\site-packages (from matplotlib) (4.59.0)\n",
      "Requirement already satisfied: kiwisolver>=1.3.1 in c:\\users\\kranthi kumar\\appdata\\local\\programs\\python\\python313\\lib\\site-packages (from matplotlib) (1.4.9)\n",
      "Requirement already satisfied: packaging>=20.0 in c:\\users\\kranthi kumar\\appdata\\local\\programs\\python\\python313\\lib\\site-packages (from matplotlib) (25.0)\n",
      "Requirement already satisfied: pillow>=8 in c:\\users\\kranthi kumar\\appdata\\local\\programs\\python\\python313\\lib\\site-packages (from matplotlib) (11.3.0)\n",
      "Requirement already satisfied: pyparsing>=2.3.1 in c:\\users\\kranthi kumar\\appdata\\local\\programs\\python\\python313\\lib\\site-packages (from matplotlib) (3.2.3)\n",
      "Requirement already satisfied: six>=1.5 in c:\\users\\kranthi kumar\\appdata\\local\\programs\\python\\python313\\lib\\site-packages (from python-dateutil>=2.8.2->pandas) (1.17.0)\n"
     ]
    },
    {
     "name": "stderr",
     "output_type": "stream",
     "text": [
      "\n",
      "[notice] A new release of pip is available: 25.1.1 -> 25.2\n",
      "[notice] To update, run: python.exe -m pip install --upgrade pip\n"
     ]
    }
   ],
   "source": [
    "# for windows system\n",
    "!pip install pandas openpyxl seaborn matplotlib\n",
    "\n",
    "# for Mac/Linux system\n",
    "# !pip3 install pandas openpyxl seaborn matplotlib"
   ]
  },
  {
   "cell_type": "code",
   "execution_count": 3,
   "id": "571f4d77-3f81-428e-8f45-3a7e60f5bef1",
   "metadata": {},
   "outputs": [],
   "source": [
    "# import statements\n",
    "\n",
    "import pandas as pd\n",
    "import seaborn as sns\n",
    "import matplotlib.pyplot as plt"
   ]
  },
  {
   "cell_type": "markdown",
   "id": "68ca1518-1943-4ea2-a4cc-ebb2cc747e3b",
   "metadata": {},
   "source": [
    "### Question 1 \n",
    "\n",
    "- Read the dataset and store it in `df` variable\n",
    "- **hint:** use read_csv method"
   ]
  },
  {
   "cell_type": "code",
   "execution_count": 4,
   "id": "6c018720-ab1f-4f41-9602-1977cfed0f74",
   "metadata": {},
   "outputs": [
    {
     "data": {
      "text/html": [
       "<div>\n",
       "<style scoped>\n",
       "    .dataframe tbody tr th:only-of-type {\n",
       "        vertical-align: middle;\n",
       "    }\n",
       "\n",
       "    .dataframe tbody tr th {\n",
       "        vertical-align: top;\n",
       "    }\n",
       "\n",
       "    .dataframe thead th {\n",
       "        text-align: right;\n",
       "    }\n",
       "</style>\n",
       "<table border=\"1\" class=\"dataframe\">\n",
       "  <thead>\n",
       "    <tr style=\"text-align: right;\">\n",
       "      <th></th>\n",
       "      <th>PassengerId</th>\n",
       "      <th>Survived</th>\n",
       "      <th>Pclass</th>\n",
       "      <th>Name</th>\n",
       "      <th>Sex</th>\n",
       "      <th>Age</th>\n",
       "      <th>SibSp</th>\n",
       "      <th>Parch</th>\n",
       "      <th>Ticket</th>\n",
       "      <th>Fare</th>\n",
       "      <th>Cabin</th>\n",
       "      <th>Embarked</th>\n",
       "    </tr>\n",
       "  </thead>\n",
       "  <tbody>\n",
       "    <tr>\n",
       "      <th>0</th>\n",
       "      <td>1</td>\n",
       "      <td>0</td>\n",
       "      <td>3</td>\n",
       "      <td>Braund, Mr. Owen Harris</td>\n",
       "      <td>male</td>\n",
       "      <td>22.0</td>\n",
       "      <td>1</td>\n",
       "      <td>0</td>\n",
       "      <td>A/5 21171</td>\n",
       "      <td>7.2500</td>\n",
       "      <td>NaN</td>\n",
       "      <td>S</td>\n",
       "    </tr>\n",
       "    <tr>\n",
       "      <th>1</th>\n",
       "      <td>2</td>\n",
       "      <td>1</td>\n",
       "      <td>1</td>\n",
       "      <td>Cumings, Mrs. John Bradley (Florence Briggs Th...</td>\n",
       "      <td>female</td>\n",
       "      <td>38.0</td>\n",
       "      <td>1</td>\n",
       "      <td>0</td>\n",
       "      <td>PC 17599</td>\n",
       "      <td>71.2833</td>\n",
       "      <td>C85</td>\n",
       "      <td>C</td>\n",
       "    </tr>\n",
       "    <tr>\n",
       "      <th>2</th>\n",
       "      <td>3</td>\n",
       "      <td>1</td>\n",
       "      <td>3</td>\n",
       "      <td>Heikkinen, Miss. Laina</td>\n",
       "      <td>female</td>\n",
       "      <td>26.0</td>\n",
       "      <td>0</td>\n",
       "      <td>0</td>\n",
       "      <td>STON/O2. 3101282</td>\n",
       "      <td>7.9250</td>\n",
       "      <td>NaN</td>\n",
       "      <td>S</td>\n",
       "    </tr>\n",
       "    <tr>\n",
       "      <th>3</th>\n",
       "      <td>4</td>\n",
       "      <td>1</td>\n",
       "      <td>1</td>\n",
       "      <td>Futrelle, Mrs. Jacques Heath (Lily May Peel)</td>\n",
       "      <td>female</td>\n",
       "      <td>35.0</td>\n",
       "      <td>1</td>\n",
       "      <td>0</td>\n",
       "      <td>113803</td>\n",
       "      <td>53.1000</td>\n",
       "      <td>C123</td>\n",
       "      <td>S</td>\n",
       "    </tr>\n",
       "    <tr>\n",
       "      <th>4</th>\n",
       "      <td>5</td>\n",
       "      <td>0</td>\n",
       "      <td>3</td>\n",
       "      <td>Allen, Mr. William Henry</td>\n",
       "      <td>male</td>\n",
       "      <td>35.0</td>\n",
       "      <td>0</td>\n",
       "      <td>0</td>\n",
       "      <td>373450</td>\n",
       "      <td>8.0500</td>\n",
       "      <td>NaN</td>\n",
       "      <td>S</td>\n",
       "    </tr>\n",
       "    <tr>\n",
       "      <th>...</th>\n",
       "      <td>...</td>\n",
       "      <td>...</td>\n",
       "      <td>...</td>\n",
       "      <td>...</td>\n",
       "      <td>...</td>\n",
       "      <td>...</td>\n",
       "      <td>...</td>\n",
       "      <td>...</td>\n",
       "      <td>...</td>\n",
       "      <td>...</td>\n",
       "      <td>...</td>\n",
       "      <td>...</td>\n",
       "    </tr>\n",
       "    <tr>\n",
       "      <th>886</th>\n",
       "      <td>887</td>\n",
       "      <td>0</td>\n",
       "      <td>2</td>\n",
       "      <td>Montvila, Rev. Juozas</td>\n",
       "      <td>male</td>\n",
       "      <td>27.0</td>\n",
       "      <td>0</td>\n",
       "      <td>0</td>\n",
       "      <td>211536</td>\n",
       "      <td>13.0000</td>\n",
       "      <td>NaN</td>\n",
       "      <td>S</td>\n",
       "    </tr>\n",
       "    <tr>\n",
       "      <th>887</th>\n",
       "      <td>888</td>\n",
       "      <td>1</td>\n",
       "      <td>1</td>\n",
       "      <td>Graham, Miss. Margaret Edith</td>\n",
       "      <td>female</td>\n",
       "      <td>19.0</td>\n",
       "      <td>0</td>\n",
       "      <td>0</td>\n",
       "      <td>112053</td>\n",
       "      <td>30.0000</td>\n",
       "      <td>B42</td>\n",
       "      <td>S</td>\n",
       "    </tr>\n",
       "    <tr>\n",
       "      <th>888</th>\n",
       "      <td>889</td>\n",
       "      <td>0</td>\n",
       "      <td>3</td>\n",
       "      <td>Johnston, Miss. Catherine Helen \"Carrie\"</td>\n",
       "      <td>female</td>\n",
       "      <td>NaN</td>\n",
       "      <td>1</td>\n",
       "      <td>2</td>\n",
       "      <td>W./C. 6607</td>\n",
       "      <td>23.4500</td>\n",
       "      <td>NaN</td>\n",
       "      <td>S</td>\n",
       "    </tr>\n",
       "    <tr>\n",
       "      <th>889</th>\n",
       "      <td>890</td>\n",
       "      <td>1</td>\n",
       "      <td>1</td>\n",
       "      <td>Behr, Mr. Karl Howell</td>\n",
       "      <td>male</td>\n",
       "      <td>26.0</td>\n",
       "      <td>0</td>\n",
       "      <td>0</td>\n",
       "      <td>111369</td>\n",
       "      <td>30.0000</td>\n",
       "      <td>C148</td>\n",
       "      <td>C</td>\n",
       "    </tr>\n",
       "    <tr>\n",
       "      <th>890</th>\n",
       "      <td>891</td>\n",
       "      <td>0</td>\n",
       "      <td>3</td>\n",
       "      <td>Dooley, Mr. Patrick</td>\n",
       "      <td>male</td>\n",
       "      <td>32.0</td>\n",
       "      <td>0</td>\n",
       "      <td>0</td>\n",
       "      <td>370376</td>\n",
       "      <td>7.7500</td>\n",
       "      <td>NaN</td>\n",
       "      <td>Q</td>\n",
       "    </tr>\n",
       "  </tbody>\n",
       "</table>\n",
       "<p>891 rows × 12 columns</p>\n",
       "</div>"
      ],
      "text/plain": [
       "     PassengerId  Survived  Pclass  \\\n",
       "0              1         0       3   \n",
       "1              2         1       1   \n",
       "2              3         1       3   \n",
       "3              4         1       1   \n",
       "4              5         0       3   \n",
       "..           ...       ...     ...   \n",
       "886          887         0       2   \n",
       "887          888         1       1   \n",
       "888          889         0       3   \n",
       "889          890         1       1   \n",
       "890          891         0       3   \n",
       "\n",
       "                                                  Name     Sex   Age  SibSp  \\\n",
       "0                              Braund, Mr. Owen Harris    male  22.0      1   \n",
       "1    Cumings, Mrs. John Bradley (Florence Briggs Th...  female  38.0      1   \n",
       "2                               Heikkinen, Miss. Laina  female  26.0      0   \n",
       "3         Futrelle, Mrs. Jacques Heath (Lily May Peel)  female  35.0      1   \n",
       "4                             Allen, Mr. William Henry    male  35.0      0   \n",
       "..                                                 ...     ...   ...    ...   \n",
       "886                              Montvila, Rev. Juozas    male  27.0      0   \n",
       "887                       Graham, Miss. Margaret Edith  female  19.0      0   \n",
       "888           Johnston, Miss. Catherine Helen \"Carrie\"  female   NaN      1   \n",
       "889                              Behr, Mr. Karl Howell    male  26.0      0   \n",
       "890                                Dooley, Mr. Patrick    male  32.0      0   \n",
       "\n",
       "     Parch            Ticket     Fare Cabin Embarked  \n",
       "0        0         A/5 21171   7.2500   NaN        S  \n",
       "1        0          PC 17599  71.2833   C85        C  \n",
       "2        0  STON/O2. 3101282   7.9250   NaN        S  \n",
       "3        0            113803  53.1000  C123        S  \n",
       "4        0            373450   8.0500   NaN        S  \n",
       "..     ...               ...      ...   ...      ...  \n",
       "886      0            211536  13.0000   NaN        S  \n",
       "887      0            112053  30.0000   B42        S  \n",
       "888      2        W./C. 6607  23.4500   NaN        S  \n",
       "889      0            111369  30.0000  C148        C  \n",
       "890      0            370376   7.7500   NaN        Q  \n",
       "\n",
       "[891 rows x 12 columns]"
      ]
     },
     "execution_count": 4,
     "metadata": {},
     "output_type": "execute_result"
    }
   ],
   "source": [
    "# write your code here\n",
    "df = pd.read_csv('Desktop/titanic.csv')\n",
    "df"
   ]
  },
  {
   "cell_type": "markdown",
   "id": "ebc3c528-dccb-4735-873a-1141b44bca32",
   "metadata": {},
   "source": [
    "### Question 2\n",
    "- find the shape of the dataset and store number of rows in `rows` variable and no of columns in `cols` variable"
   ]
  },
  {
   "cell_type": "code",
   "execution_count": 5,
   "id": "1c7d3edc-0123-4fc8-a4a8-1da3995776de",
   "metadata": {},
   "outputs": [],
   "source": [
    "# write your code here"
   ]
  },
  {
   "cell_type": "code",
   "execution_count": 6,
   "id": "4bacfef3-da37-41cf-b1d3-13ecb9ab8c78",
   "metadata": {},
   "outputs": [
    {
     "name": "stdout",
     "output_type": "stream",
     "text": [
      "There are\n",
      "891 rows\n",
      "12 cols in the dataset\n"
     ]
    }
   ],
   "source": [
    "# change or write accordingly\n",
    "rows = df.shape[0]\n",
    "cols = df.shape[1]\n",
    "\n",
    "# do not change the below print code\n",
    "print(f'There are\\n{rows} rows\\n{cols} cols in the dataset')"
   ]
  },
  {
   "cell_type": "markdown",
   "id": "63c3da78-ad20-49ef-ae9b-13a4c127940b",
   "metadata": {},
   "source": [
    "### Question 3\n",
    "- get all columns in the dataset and store in `columns` variable"
   ]
  },
  {
   "cell_type": "code",
   "execution_count": 7,
   "id": "2c44e9ce-f1ae-42b2-b1e2-2ec86f776ceb",
   "metadata": {},
   "outputs": [
    {
     "data": {
      "text/plain": [
       "['PassengerId',\n",
       " 'Survived',\n",
       " 'Pclass',\n",
       " 'Name',\n",
       " 'Sex',\n",
       " 'Age',\n",
       " 'SibSp',\n",
       " 'Parch',\n",
       " 'Ticket',\n",
       " 'Fare',\n",
       " 'Cabin',\n",
       " 'Embarked']"
      ]
     },
     "execution_count": 7,
     "metadata": {},
     "output_type": "execute_result"
    }
   ],
   "source": [
    "# write your code here\n",
    "columns = df.columns.tolist()\n",
    "columns"
   ]
  },
  {
   "cell_type": "code",
   "execution_count": null,
   "id": "5e8c052e-6543-47fb-a974-2443332faf01",
   "metadata": {},
   "outputs": [],
   "source": []
  },
  {
   "cell_type": "code",
   "execution_count": null,
   "id": "e385858f-8845-4502-bfd5-744e4649c6e8",
   "metadata": {},
   "outputs": [],
   "source": []
  },
  {
   "cell_type": "code",
   "execution_count": 8,
   "id": "c8bfcbe4-2978-4500-9ef6-ca9f45fc7d57",
   "metadata": {},
   "outputs": [
    {
     "data": {
      "text/html": [
       "<div>\n",
       "<style scoped>\n",
       "    .dataframe tbody tr th:only-of-type {\n",
       "        vertical-align: middle;\n",
       "    }\n",
       "\n",
       "    .dataframe tbody tr th {\n",
       "        vertical-align: top;\n",
       "    }\n",
       "\n",
       "    .dataframe thead th {\n",
       "        text-align: right;\n",
       "    }\n",
       "</style>\n",
       "<table border=\"1\" class=\"dataframe\">\n",
       "  <thead>\n",
       "    <tr style=\"text-align: right;\">\n",
       "      <th></th>\n",
       "      <th>Survived</th>\n",
       "      <th>Pclass</th>\n",
       "      <th>Sex</th>\n",
       "      <th>Age</th>\n",
       "      <th>Parch</th>\n",
       "      <th>Fare</th>\n",
       "      <th>Cabin</th>\n",
       "      <th>Embarked</th>\n",
       "    </tr>\n",
       "  </thead>\n",
       "  <tbody>\n",
       "    <tr>\n",
       "      <th>0</th>\n",
       "      <td>0</td>\n",
       "      <td>3</td>\n",
       "      <td>male</td>\n",
       "      <td>22.0</td>\n",
       "      <td>0</td>\n",
       "      <td>7.2500</td>\n",
       "      <td>NaN</td>\n",
       "      <td>S</td>\n",
       "    </tr>\n",
       "    <tr>\n",
       "      <th>1</th>\n",
       "      <td>1</td>\n",
       "      <td>1</td>\n",
       "      <td>female</td>\n",
       "      <td>38.0</td>\n",
       "      <td>0</td>\n",
       "      <td>71.2833</td>\n",
       "      <td>C85</td>\n",
       "      <td>C</td>\n",
       "    </tr>\n",
       "    <tr>\n",
       "      <th>2</th>\n",
       "      <td>1</td>\n",
       "      <td>3</td>\n",
       "      <td>female</td>\n",
       "      <td>26.0</td>\n",
       "      <td>0</td>\n",
       "      <td>7.9250</td>\n",
       "      <td>NaN</td>\n",
       "      <td>S</td>\n",
       "    </tr>\n",
       "    <tr>\n",
       "      <th>3</th>\n",
       "      <td>1</td>\n",
       "      <td>1</td>\n",
       "      <td>female</td>\n",
       "      <td>35.0</td>\n",
       "      <td>0</td>\n",
       "      <td>53.1000</td>\n",
       "      <td>C123</td>\n",
       "      <td>S</td>\n",
       "    </tr>\n",
       "    <tr>\n",
       "      <th>4</th>\n",
       "      <td>0</td>\n",
       "      <td>3</td>\n",
       "      <td>male</td>\n",
       "      <td>35.0</td>\n",
       "      <td>0</td>\n",
       "      <td>8.0500</td>\n",
       "      <td>NaN</td>\n",
       "      <td>S</td>\n",
       "    </tr>\n",
       "    <tr>\n",
       "      <th>...</th>\n",
       "      <td>...</td>\n",
       "      <td>...</td>\n",
       "      <td>...</td>\n",
       "      <td>...</td>\n",
       "      <td>...</td>\n",
       "      <td>...</td>\n",
       "      <td>...</td>\n",
       "      <td>...</td>\n",
       "    </tr>\n",
       "    <tr>\n",
       "      <th>886</th>\n",
       "      <td>0</td>\n",
       "      <td>2</td>\n",
       "      <td>male</td>\n",
       "      <td>27.0</td>\n",
       "      <td>0</td>\n",
       "      <td>13.0000</td>\n",
       "      <td>NaN</td>\n",
       "      <td>S</td>\n",
       "    </tr>\n",
       "    <tr>\n",
       "      <th>887</th>\n",
       "      <td>1</td>\n",
       "      <td>1</td>\n",
       "      <td>female</td>\n",
       "      <td>19.0</td>\n",
       "      <td>0</td>\n",
       "      <td>30.0000</td>\n",
       "      <td>B42</td>\n",
       "      <td>S</td>\n",
       "    </tr>\n",
       "    <tr>\n",
       "      <th>888</th>\n",
       "      <td>0</td>\n",
       "      <td>3</td>\n",
       "      <td>female</td>\n",
       "      <td>NaN</td>\n",
       "      <td>2</td>\n",
       "      <td>23.4500</td>\n",
       "      <td>NaN</td>\n",
       "      <td>S</td>\n",
       "    </tr>\n",
       "    <tr>\n",
       "      <th>889</th>\n",
       "      <td>1</td>\n",
       "      <td>1</td>\n",
       "      <td>male</td>\n",
       "      <td>26.0</td>\n",
       "      <td>0</td>\n",
       "      <td>30.0000</td>\n",
       "      <td>C148</td>\n",
       "      <td>C</td>\n",
       "    </tr>\n",
       "    <tr>\n",
       "      <th>890</th>\n",
       "      <td>0</td>\n",
       "      <td>3</td>\n",
       "      <td>male</td>\n",
       "      <td>32.0</td>\n",
       "      <td>0</td>\n",
       "      <td>7.7500</td>\n",
       "      <td>NaN</td>\n",
       "      <td>Q</td>\n",
       "    </tr>\n",
       "  </tbody>\n",
       "</table>\n",
       "<p>891 rows × 8 columns</p>\n",
       "</div>"
      ],
      "text/plain": [
       "     Survived  Pclass     Sex   Age  Parch     Fare Cabin Embarked\n",
       "0           0       3    male  22.0      0   7.2500   NaN        S\n",
       "1           1       1  female  38.0      0  71.2833   C85        C\n",
       "2           1       3  female  26.0      0   7.9250   NaN        S\n",
       "3           1       1  female  35.0      0  53.1000  C123        S\n",
       "4           0       3    male  35.0      0   8.0500   NaN        S\n",
       "..        ...     ...     ...   ...    ...      ...   ...      ...\n",
       "886         0       2    male  27.0      0  13.0000   NaN        S\n",
       "887         1       1  female  19.0      0  30.0000   B42        S\n",
       "888         0       3  female   NaN      2  23.4500   NaN        S\n",
       "889         1       1    male  26.0      0  30.0000  C148        C\n",
       "890         0       3    male  32.0      0   7.7500   NaN        Q\n",
       "\n",
       "[891 rows x 8 columns]"
      ]
     },
     "execution_count": 8,
     "metadata": {},
     "output_type": "execute_result"
    }
   ],
   "source": [
    "# just run the below code\n",
    "\n",
    "\"\"\"\n",
    "the below code is used to select only relvant columns in the dataframe, and removed all unwanted columns\n",
    "\"\"\"\n",
    "\n",
    "req_columns = ['Survived', 'Pclass', 'Sex', 'Age', 'Parch', 'Fare', 'Cabin', 'Embarked' ]\n",
    "df = df[req_columns]\n",
    "df\n",
    "\n"
   ]
  },
  {
   "cell_type": "markdown",
   "id": "088f238b-bbfb-4e8a-ad92-9a9df2bb0a23",
   "metadata": {},
   "source": [
    "### Question 4:\n",
    "- Find the counts of unique values of `sex` column in the dataframe\n",
    "\n",
    "**hint:** use the value_counts method "
   ]
  },
  {
   "cell_type": "code",
   "execution_count": 9,
   "id": "1c7d5346-0d07-4ea7-a0df-4b5a6f0554ad",
   "metadata": {},
   "outputs": [],
   "source": [
    "# write your code here"
   ]
  },
  {
   "cell_type": "code",
   "execution_count": 10,
   "id": "8cb35925-5ccf-4aa8-a311-4558ac368f31",
   "metadata": {},
   "outputs": [
    {
     "data": {
      "text/plain": [
       "Sex\n",
       "male      577\n",
       "female    314\n",
       "Name: count, dtype: int64"
      ]
     },
     "execution_count": 10,
     "metadata": {},
     "output_type": "execute_result"
    }
   ],
   "source": [
    "sex_count=df['Sex'].value_counts()\n",
    "sex_count"
   ]
  },
  {
   "cell_type": "markdown",
   "id": "b4e5615d-c3df-45cf-a838-c98db80ba5d1",
   "metadata": {},
   "source": [
    "### Question 5: \n",
    "- Reproduce the below graph using seaborn (sns)\n",
    "\n",
    "<img src='./sex.png'/>\n",
    "\n",
    "**hint:** use countplot"
   ]
  },
  {
   "cell_type": "code",
   "execution_count": 11,
   "id": "dcee98b8-9564-4325-b56c-d9f4ca4f582d",
   "metadata": {},
   "outputs": [],
   "source": [
    "# Write your code here"
   ]
  },
  {
   "cell_type": "code",
   "execution_count": 12,
   "id": "49f0cfd1-0e53-4347-9c3b-4ddf0e673f90",
   "metadata": {},
   "outputs": [
    {
     "data": {
      "image/png": "[encoded data removed]",
      "text/plain": [
       "<Figure size 640x480 with 1 Axes>"
      ]
     },
     "metadata": {},
     "output_type": "display_data"
    }
   ],
   "source": [
    "sns.countplot(y='Sex', data=df)\n",
    "plt.show()"
   ]
  },
  {
   "cell_type": "markdown",
   "id": "5af60d88-ed5e-4d1f-b700-fd15543a2611",
   "metadata": {},
   "source": [
    "### Question 6\n",
    "- What is the average `age` of the passengers in the titanic? find it and store it in `average_age` variable"
   ]
  },
  {
   "cell_type": "code",
   "execution_count": 13,
   "id": "c90606ee-33c9-4504-a99c-9bf141edc89f",
   "metadata": {},
   "outputs": [
    {
     "data": {
      "text/plain": [
       "np.float64(29.69911764705882)"
      ]
     },
     "execution_count": 13,
     "metadata": {},
     "output_type": "execute_result"
    }
   ],
   "source": [
    "# write your code here\n",
    "\n",
    "average_age = df['Age'].mean()\n",
    "average_age"
   ]
  },
  {
   "cell_type": "code",
   "execution_count": null,
   "id": "694cc894-d408-46b1-99a8-2f20a99520c1",
   "metadata": {},
   "outputs": [],
   "source": []
  },
  {
   "cell_type": "markdown",
   "id": "d1f9897a-9848-44a3-ae52-e546f1c7156a",
   "metadata": {},
   "source": [
    "### Question 7:\n",
    "- Plot the distribution of the age and reproduce the below image\n",
    "\n",
    "<img src='./Age.png' />\n",
    "\n",
    "**hint**\n",
    "\n",
    "- to get title use `plt.title(\"your title\")` also try `plt.title(\"your title\", fontsize=20)`\n",
    "- use sns.histplot and pass kde=True to get the smooth line curve"
   ]
  },
  {
   "cell_type": "code",
   "execution_count": 14,
   "id": "45402f85-f560-4fe3-b316-109890e154b2",
   "metadata": {},
   "outputs": [
    {
     "data": {
      "image/png": "[encoded data removed]",
      "text/plain": [
       "<Figure size 640x480 with 1 Axes>"
      ]
     },
     "metadata": {},
     "output_type": "display_data"
    }
   ],
   "source": [
    "# write your code here\n",
    "\n",
    "sns.histplot(df['Age'], kde=True)\n",
    "plt.title(\"Age Distribution\", fontsize=20)\n",
    "plt.xlabel(\"Age\")\n",
    "plt.ylabel(\"Count\")\n",
    "plt.show()\n",
    "# fromt he above graph which age people are mostly in the titanic can you guess and which are least also if you can\n",
    "most_age_group = \"20-30\"\n",
    "least_age_group = \"70-80\"\n",
    "\n",
    "# the bar height represents the number of people"
   ]
  },
  {
   "cell_type": "code",
   "execution_count": null,
   "id": "b919fd92-d80c-4623-af16-b548116cb528",
   "metadata": {},
   "outputs": [],
   "source": []
  },
  {
   "cell_type": "markdown",
   "id": "ea39703a-9f75-42b8-9e5f-b87a15061fe8",
   "metadata": {},
   "source": [
    "### Question 8\n",
    "- plot the pie chart for column `Embarked\n",
    "\n",
    "<img src='./embarked.png' />\n",
    "\n",
    "**hint**\n",
    "- use value_counts().values for plot .keys() for labels in pie chart"
   ]
  },
  {
   "cell_type": "code",
   "execution_count": 15,
   "id": "684923d5-5b54-416d-87bb-979bdd9cc5c7",
   "metadata": {},
   "outputs": [
    {
     "data": {
      "image/png": "[encoded data removed]",
      "text/plain": [
       "<Figure size 800x800 with 1 Axes>"
      ]
     },
     "metadata": {},
     "output_type": "display_data"
    }
   ],
   "source": [
    "embarked = df['Embarked']\n",
    "embarked_counts = embarked.value_counts()\n",
    "plt.figure(figsize=(8, 8))\n",
    "plt.pie(\n",
    "    embarked_counts.values,\n",
    "    labels=embarked_counts.keys()\n",
    ")\n",
    "plt.show()\n",
    "\n",
    "# continue your code here"
   ]
  },
  {
   "cell_type": "markdown",
   "id": "b2ca1919-c5b5-4621-817c-408abf9c9540",
   "metadata": {},
   "source": [
    "## Bivariate analysis - Analysis with Two variables is called Bivariate analysis\n",
    "\n",
    "### Question 9\n",
    "\n",
    "- By looking at the below graph (after running the notebook, answer below questions"
   ]
  },
  {
   "cell_type": "code",
   "execution_count": 16,
   "id": "fc8f9034-397d-4145-b439-78e4488390a0",
   "metadata": {},
   "outputs": [
    {
     "data": {
      "text/plain": [
       "<Axes: xlabel='Sex', ylabel='count'>"
      ]
     },
     "execution_count": 16,
     "metadata": {},
     "output_type": "execute_result"
    },
    {
     "data": {
      "image/png": "[encoded data removed]",
      "text/plain": [
       "<Figure size 640x480 with 1 Axes>"
      ]
     },
     "metadata": {},
     "output_type": "display_data"
    }
   ],
   "source": [
    "sns.countplot(data=df, x='Sex', hue='Embarked')"
   ]
  },
  {
   "cell_type": "markdown",
   "id": "099934fd-1844-481c-a1e1-bbd36a62c9fd",
   "metadata": {},
   "source": [
    "# Is there any relation between Sex and Embarked Station\n",
    "Yes, there seems to be a relationship.\n",
    "The distribution of males and females differs across embarkation ports.\n",
    "# from which station (Embarked) most of people started journey (S or C or Q )\n",
    "Southampton (S)\n",
    "# from which station (Embarked) least number of people started journey (S or C or Q )\n",
    "Queenstown (Q)"
   ]
  },
  {
   "cell_type": "code",
   "execution_count": null,
   "id": "f675fcd0-11e3-400f-a7d9-8e55b875d30b",
   "metadata": {},
   "outputs": [],
   "source": []
  },
  {
   "cell_type": "markdown",
   "id": "85f1d4f7-b50e-49f2-9599-883a3d7f0023",
   "metadata": {},
   "source": [
    "### Question 10 - Learning Matplotlib - DO NOT SKIP THIS\n",
    "- In the dataset, There is a column called `Survived` which indicates weather the passenger was survived in accident or not if the value is `1 that means survived` else if the value is `0 means the person is not survived`\n",
    "\n",
    "- Check weather the survived or not survived have any relation with gender\n",
    "\n"
   ]
  },
  {
   "cell_type": "code",
   "execution_count": 17,
   "id": "7d77140f-5a93-4bb6-9043-1bacc0f741f3",
   "metadata": {},
   "outputs": [],
   "source": [
    "# Prepare the data\n",
    "\n",
    "req_cols = ['Sex', 'Survived']"
   ]
  },
  {
   "cell_type": "code",
   "execution_count": 18,
   "id": "38bf9431-fb6b-42e8-886a-9b1f961ff8c1",
   "metadata": {},
   "outputs": [
    {
     "data": {
      "text/html": [
       "<div>\n",
       "<style scoped>\n",
       "    .dataframe tbody tr th:only-of-type {\n",
       "        vertical-align: middle;\n",
       "    }\n",
       "\n",
       "    .dataframe tbody tr th {\n",
       "        vertical-align: top;\n",
       "    }\n",
       "\n",
       "    .dataframe thead th {\n",
       "        text-align: right;\n",
       "    }\n",
       "</style>\n",
       "<table border=\"1\" class=\"dataframe\">\n",
       "  <thead>\n",
       "    <tr style=\"text-align: right;\">\n",
       "      <th></th>\n",
       "      <th>Sex</th>\n",
       "      <th>Survived</th>\n",
       "    </tr>\n",
       "  </thead>\n",
       "  <tbody>\n",
       "    <tr>\n",
       "      <th>0</th>\n",
       "      <td>male</td>\n",
       "      <td>0</td>\n",
       "    </tr>\n",
       "    <tr>\n",
       "      <th>1</th>\n",
       "      <td>female</td>\n",
       "      <td>1</td>\n",
       "    </tr>\n",
       "    <tr>\n",
       "      <th>2</th>\n",
       "      <td>female</td>\n",
       "      <td>1</td>\n",
       "    </tr>\n",
       "    <tr>\n",
       "      <th>3</th>\n",
       "      <td>female</td>\n",
       "      <td>1</td>\n",
       "    </tr>\n",
       "    <tr>\n",
       "      <th>4</th>\n",
       "      <td>male</td>\n",
       "      <td>0</td>\n",
       "    </tr>\n",
       "    <tr>\n",
       "      <th>...</th>\n",
       "      <td>...</td>\n",
       "      <td>...</td>\n",
       "    </tr>\n",
       "    <tr>\n",
       "      <th>886</th>\n",
       "      <td>male</td>\n",
       "      <td>0</td>\n",
       "    </tr>\n",
       "    <tr>\n",
       "      <th>887</th>\n",
       "      <td>female</td>\n",
       "      <td>1</td>\n",
       "    </tr>\n",
       "    <tr>\n",
       "      <th>888</th>\n",
       "      <td>female</td>\n",
       "      <td>0</td>\n",
       "    </tr>\n",
       "    <tr>\n",
       "      <th>889</th>\n",
       "      <td>male</td>\n",
       "      <td>1</td>\n",
       "    </tr>\n",
       "    <tr>\n",
       "      <th>890</th>\n",
       "      <td>male</td>\n",
       "      <td>0</td>\n",
       "    </tr>\n",
       "  </tbody>\n",
       "</table>\n",
       "<p>891 rows × 2 columns</p>\n",
       "</div>"
      ],
      "text/plain": [
       "        Sex  Survived\n",
       "0      male         0\n",
       "1    female         1\n",
       "2    female         1\n",
       "3    female         1\n",
       "4      male         0\n",
       "..      ...       ...\n",
       "886    male         0\n",
       "887  female         1\n",
       "888  female         0\n",
       "889    male         1\n",
       "890    male         0\n",
       "\n",
       "[891 rows x 2 columns]"
      ]
     },
     "execution_count": 18,
     "metadata": {},
     "output_type": "execute_result"
    }
   ],
   "source": [
    "req_data = df[req_cols]\n",
    "req_data"
   ]
  },
  {
   "cell_type": "code",
   "execution_count": 19,
   "id": "043276a9-494c-4377-85f9-3ca345ad1ee3",
   "metadata": {},
   "outputs": [],
   "source": [
    "# first we need the below information to plot\n",
    "\n",
    "\"\"\"\n",
    "male_survived\n",
    "female_survived\n",
    "\n",
    "male_not_survived\n",
    "female_not_surved\n",
    "\n",
    "from the abvoe data we can do some logic and get the value done\n",
    "\"\"\"\n",
    "\n",
    "# selecting the male data and female data separately\n",
    "# df [ condition ] # this syntax will be used all below\n",
    "\n",
    "male_data = req_data[ req_data['Sex']=='male' ]\n",
    "female_data = req_data[ req_data['Sex']=='female' ]\n"
   ]
  },
  {
   "cell_type": "code",
   "execution_count": 20,
   "id": "979b24d1-b8f1-4f3d-833b-a0084dd18315",
   "metadata": {},
   "outputs": [],
   "source": [
    "# now we got male and female data separetly we can now filter with more survived or not survived\n",
    "\n",
    "male_survived = male_data[ male_data['Survived']==1 ]\n",
    "male_not_survived = male_data[ male_data['Survived']==0 ]"
   ]
  },
  {
   "cell_type": "code",
   "execution_count": 21,
   "id": "726ae52d-4bfa-409d-b467-d4e89f7275cf",
   "metadata": {},
   "outputs": [],
   "source": [
    "# similarly we can do for female\n",
    "female_survived = female_data[ female_data['Survived']==1 ]\n",
    "female_not_survived = female_data[ female_data['Survived']==0 ]"
   ]
  },
  {
   "cell_type": "code",
   "execution_count": 22,
   "id": "3882749a-a472-4346-b5ee-ef59469ff828",
   "metadata": {},
   "outputs": [
    {
     "data": {
      "text/html": [
       "<div>\n",
       "<style scoped>\n",
       "    .dataframe tbody tr th:only-of-type {\n",
       "        vertical-align: middle;\n",
       "    }\n",
       "\n",
       "    .dataframe tbody tr th {\n",
       "        vertical-align: top;\n",
       "    }\n",
       "\n",
       "    .dataframe thead th {\n",
       "        text-align: right;\n",
       "    }\n",
       "</style>\n",
       "<table border=\"1\" class=\"dataframe\">\n",
       "  <thead>\n",
       "    <tr style=\"text-align: right;\">\n",
       "      <th></th>\n",
       "      <th>Sex</th>\n",
       "      <th>Survived</th>\n",
       "    </tr>\n",
       "  </thead>\n",
       "  <tbody>\n",
       "    <tr>\n",
       "      <th>17</th>\n",
       "      <td>male</td>\n",
       "      <td>1</td>\n",
       "    </tr>\n",
       "    <tr>\n",
       "      <th>21</th>\n",
       "      <td>male</td>\n",
       "      <td>1</td>\n",
       "    </tr>\n",
       "    <tr>\n",
       "      <th>23</th>\n",
       "      <td>male</td>\n",
       "      <td>1</td>\n",
       "    </tr>\n",
       "    <tr>\n",
       "      <th>36</th>\n",
       "      <td>male</td>\n",
       "      <td>1</td>\n",
       "    </tr>\n",
       "    <tr>\n",
       "      <th>55</th>\n",
       "      <td>male</td>\n",
       "      <td>1</td>\n",
       "    </tr>\n",
       "    <tr>\n",
       "      <th>...</th>\n",
       "      <td>...</td>\n",
       "      <td>...</td>\n",
       "    </tr>\n",
       "    <tr>\n",
       "      <th>838</th>\n",
       "      <td>male</td>\n",
       "      <td>1</td>\n",
       "    </tr>\n",
       "    <tr>\n",
       "      <th>839</th>\n",
       "      <td>male</td>\n",
       "      <td>1</td>\n",
       "    </tr>\n",
       "    <tr>\n",
       "      <th>857</th>\n",
       "      <td>male</td>\n",
       "      <td>1</td>\n",
       "    </tr>\n",
       "    <tr>\n",
       "      <th>869</th>\n",
       "      <td>male</td>\n",
       "      <td>1</td>\n",
       "    </tr>\n",
       "    <tr>\n",
       "      <th>889</th>\n",
       "      <td>male</td>\n",
       "      <td>1</td>\n",
       "    </tr>\n",
       "  </tbody>\n",
       "</table>\n",
       "<p>109 rows × 2 columns</p>\n",
       "</div>"
      ],
      "text/plain": [
       "      Sex  Survived\n",
       "17   male         1\n",
       "21   male         1\n",
       "23   male         1\n",
       "36   male         1\n",
       "55   male         1\n",
       "..    ...       ...\n",
       "838  male         1\n",
       "839  male         1\n",
       "857  male         1\n",
       "869  male         1\n",
       "889  male         1\n",
       "\n",
       "[109 rows x 2 columns]"
      ]
     },
     "execution_count": 22,
     "metadata": {},
     "output_type": "execute_result"
    }
   ],
   "source": [
    "# now we have all data ready lets verify\n",
    "male_survived"
   ]
  },
  {
   "cell_type": "code",
   "execution_count": 23,
   "id": "a65ff17d-ca94-4a5b-b416-4760790da127",
   "metadata": {},
   "outputs": [
    {
     "data": {
      "text/html": [
       "<div>\n",
       "<style scoped>\n",
       "    .dataframe tbody tr th:only-of-type {\n",
       "        vertical-align: middle;\n",
       "    }\n",
       "\n",
       "    .dataframe tbody tr th {\n",
       "        vertical-align: top;\n",
       "    }\n",
       "\n",
       "    .dataframe thead th {\n",
       "        text-align: right;\n",
       "    }\n",
       "</style>\n",
       "<table border=\"1\" class=\"dataframe\">\n",
       "  <thead>\n",
       "    <tr style=\"text-align: right;\">\n",
       "      <th></th>\n",
       "      <th>Sex</th>\n",
       "      <th>Survived</th>\n",
       "    </tr>\n",
       "  </thead>\n",
       "  <tbody>\n",
       "    <tr>\n",
       "      <th>0</th>\n",
       "      <td>male</td>\n",
       "      <td>0</td>\n",
       "    </tr>\n",
       "    <tr>\n",
       "      <th>4</th>\n",
       "      <td>male</td>\n",
       "      <td>0</td>\n",
       "    </tr>\n",
       "    <tr>\n",
       "      <th>5</th>\n",
       "      <td>male</td>\n",
       "      <td>0</td>\n",
       "    </tr>\n",
       "    <tr>\n",
       "      <th>6</th>\n",
       "      <td>male</td>\n",
       "      <td>0</td>\n",
       "    </tr>\n",
       "    <tr>\n",
       "      <th>7</th>\n",
       "      <td>male</td>\n",
       "      <td>0</td>\n",
       "    </tr>\n",
       "    <tr>\n",
       "      <th>...</th>\n",
       "      <td>...</td>\n",
       "      <td>...</td>\n",
       "    </tr>\n",
       "    <tr>\n",
       "      <th>881</th>\n",
       "      <td>male</td>\n",
       "      <td>0</td>\n",
       "    </tr>\n",
       "    <tr>\n",
       "      <th>883</th>\n",
       "      <td>male</td>\n",
       "      <td>0</td>\n",
       "    </tr>\n",
       "    <tr>\n",
       "      <th>884</th>\n",
       "      <td>male</td>\n",
       "      <td>0</td>\n",
       "    </tr>\n",
       "    <tr>\n",
       "      <th>886</th>\n",
       "      <td>male</td>\n",
       "      <td>0</td>\n",
       "    </tr>\n",
       "    <tr>\n",
       "      <th>890</th>\n",
       "      <td>male</td>\n",
       "      <td>0</td>\n",
       "    </tr>\n",
       "  </tbody>\n",
       "</table>\n",
       "<p>468 rows × 2 columns</p>\n",
       "</div>"
      ],
      "text/plain": [
       "      Sex  Survived\n",
       "0    male         0\n",
       "4    male         0\n",
       "5    male         0\n",
       "6    male         0\n",
       "7    male         0\n",
       "..    ...       ...\n",
       "881  male         0\n",
       "883  male         0\n",
       "884  male         0\n",
       "886  male         0\n",
       "890  male         0\n",
       "\n",
       "[468 rows x 2 columns]"
      ]
     },
     "execution_count": 23,
     "metadata": {},
     "output_type": "execute_result"
    }
   ],
   "source": [
    "male_not_survived"
   ]
  },
  {
   "cell_type": "code",
   "execution_count": 24,
   "id": "ce1e25b1-3405-4592-bbdf-263c2dc3b1b0",
   "metadata": {},
   "outputs": [
    {
     "data": {
      "text/html": [
       "<div>\n",
       "<style scoped>\n",
       "    .dataframe tbody tr th:only-of-type {\n",
       "        vertical-align: middle;\n",
       "    }\n",
       "\n",
       "    .dataframe tbody tr th {\n",
       "        vertical-align: top;\n",
       "    }\n",
       "\n",
       "    .dataframe thead th {\n",
       "        text-align: right;\n",
       "    }\n",
       "</style>\n",
       "<table border=\"1\" class=\"dataframe\">\n",
       "  <thead>\n",
       "    <tr style=\"text-align: right;\">\n",
       "      <th></th>\n",
       "      <th>Sex</th>\n",
       "      <th>Survived</th>\n",
       "    </tr>\n",
       "  </thead>\n",
       "  <tbody>\n",
       "    <tr>\n",
       "      <th>1</th>\n",
       "      <td>female</td>\n",
       "      <td>1</td>\n",
       "    </tr>\n",
       "    <tr>\n",
       "      <th>2</th>\n",
       "      <td>female</td>\n",
       "      <td>1</td>\n",
       "    </tr>\n",
       "    <tr>\n",
       "      <th>3</th>\n",
       "      <td>female</td>\n",
       "      <td>1</td>\n",
       "    </tr>\n",
       "    <tr>\n",
       "      <th>8</th>\n",
       "      <td>female</td>\n",
       "      <td>1</td>\n",
       "    </tr>\n",
       "    <tr>\n",
       "      <th>9</th>\n",
       "      <td>female</td>\n",
       "      <td>1</td>\n",
       "    </tr>\n",
       "    <tr>\n",
       "      <th>...</th>\n",
       "      <td>...</td>\n",
       "      <td>...</td>\n",
       "    </tr>\n",
       "    <tr>\n",
       "      <th>874</th>\n",
       "      <td>female</td>\n",
       "      <td>1</td>\n",
       "    </tr>\n",
       "    <tr>\n",
       "      <th>875</th>\n",
       "      <td>female</td>\n",
       "      <td>1</td>\n",
       "    </tr>\n",
       "    <tr>\n",
       "      <th>879</th>\n",
       "      <td>female</td>\n",
       "      <td>1</td>\n",
       "    </tr>\n",
       "    <tr>\n",
       "      <th>880</th>\n",
       "      <td>female</td>\n",
       "      <td>1</td>\n",
       "    </tr>\n",
       "    <tr>\n",
       "      <th>887</th>\n",
       "      <td>female</td>\n",
       "      <td>1</td>\n",
       "    </tr>\n",
       "  </tbody>\n",
       "</table>\n",
       "<p>233 rows × 2 columns</p>\n",
       "</div>"
      ],
      "text/plain": [
       "        Sex  Survived\n",
       "1    female         1\n",
       "2    female         1\n",
       "3    female         1\n",
       "8    female         1\n",
       "9    female         1\n",
       "..      ...       ...\n",
       "874  female         1\n",
       "875  female         1\n",
       "879  female         1\n",
       "880  female         1\n",
       "887  female         1\n",
       "\n",
       "[233 rows x 2 columns]"
      ]
     },
     "execution_count": 24,
     "metadata": {},
     "output_type": "execute_result"
    }
   ],
   "source": [
    "female_survived"
   ]
  },
  {
   "cell_type": "code",
   "execution_count": 25,
   "id": "8d0e801c-848f-4b3e-9e1f-3d5304575d6c",
   "metadata": {},
   "outputs": [
    {
     "data": {
      "text/html": [
       "<div>\n",
       "<style scoped>\n",
       "    .dataframe tbody tr th:only-of-type {\n",
       "        vertical-align: middle;\n",
       "    }\n",
       "\n",
       "    .dataframe tbody tr th {\n",
       "        vertical-align: top;\n",
       "    }\n",
       "\n",
       "    .dataframe thead th {\n",
       "        text-align: right;\n",
       "    }\n",
       "</style>\n",
       "<table border=\"1\" class=\"dataframe\">\n",
       "  <thead>\n",
       "    <tr style=\"text-align: right;\">\n",
       "      <th></th>\n",
       "      <th>Sex</th>\n",
       "      <th>Survived</th>\n",
       "    </tr>\n",
       "  </thead>\n",
       "  <tbody>\n",
       "    <tr>\n",
       "      <th>14</th>\n",
       "      <td>female</td>\n",
       "      <td>0</td>\n",
       "    </tr>\n",
       "    <tr>\n",
       "      <th>18</th>\n",
       "      <td>female</td>\n",
       "      <td>0</td>\n",
       "    </tr>\n",
       "    <tr>\n",
       "      <th>24</th>\n",
       "      <td>female</td>\n",
       "      <td>0</td>\n",
       "    </tr>\n",
       "    <tr>\n",
       "      <th>38</th>\n",
       "      <td>female</td>\n",
       "      <td>0</td>\n",
       "    </tr>\n",
       "    <tr>\n",
       "      <th>40</th>\n",
       "      <td>female</td>\n",
       "      <td>0</td>\n",
       "    </tr>\n",
       "    <tr>\n",
       "      <th>...</th>\n",
       "      <td>...</td>\n",
       "      <td>...</td>\n",
       "    </tr>\n",
       "    <tr>\n",
       "      <th>854</th>\n",
       "      <td>female</td>\n",
       "      <td>0</td>\n",
       "    </tr>\n",
       "    <tr>\n",
       "      <th>863</th>\n",
       "      <td>female</td>\n",
       "      <td>0</td>\n",
       "    </tr>\n",
       "    <tr>\n",
       "      <th>882</th>\n",
       "      <td>female</td>\n",
       "      <td>0</td>\n",
       "    </tr>\n",
       "    <tr>\n",
       "      <th>885</th>\n",
       "      <td>female</td>\n",
       "      <td>0</td>\n",
       "    </tr>\n",
       "    <tr>\n",
       "      <th>888</th>\n",
       "      <td>female</td>\n",
       "      <td>0</td>\n",
       "    </tr>\n",
       "  </tbody>\n",
       "</table>\n",
       "<p>81 rows × 2 columns</p>\n",
       "</div>"
      ],
      "text/plain": [
       "        Sex  Survived\n",
       "14   female         0\n",
       "18   female         0\n",
       "24   female         0\n",
       "38   female         0\n",
       "40   female         0\n",
       "..      ...       ...\n",
       "854  female         0\n",
       "863  female         0\n",
       "882  female         0\n",
       "885  female         0\n",
       "888  female         0\n",
       "\n",
       "[81 rows x 2 columns]"
      ]
     },
     "execution_count": 25,
     "metadata": {},
     "output_type": "execute_result"
    }
   ],
   "source": [
    "female_not_survived"
   ]
  },
  {
   "cell_type": "code",
   "execution_count": 26,
   "id": "9f44027c-7a86-4872-80bf-a8168ee8f376",
   "metadata": {},
   "outputs": [],
   "source": [
    "# now we can count each of them by len function\n",
    "\n",
    "no_of_male_survived = len(male_survived)\n",
    "no_of_male_not_survivived = len(male_not_survived)\n",
    "\n",
    "no_of_female_survived = len(female_survived)\n",
    "no_of_female_not_survived = len(female_not_survived)"
   ]
  },
  {
   "cell_type": "markdown",
   "id": "d94f784e-7606-4a34-a408-5d7f3142d3f7",
   "metadata": {},
   "source": [
    "#### final data check"
   ]
  },
  {
   "cell_type": "code",
   "execution_count": 27,
   "id": "96789da6-a383-4f66-9364-3fce05385729",
   "metadata": {},
   "outputs": [
    {
     "name": "stdout",
     "output_type": "stream",
     "text": [
      "Male survived: 109\n",
      "Male Not survived: 468\n",
      "Female survived: 233\n",
      "Female Not survived: 81\n"
     ]
    }
   ],
   "source": [
    "print(\"Male survived:\",no_of_male_survived)\n",
    "print(\"Male Not survived:\",no_of_male_not_survivived)\n",
    "print(\"Female survived:\",no_of_female_survived)\n",
    "print(\"Female Not survived:\",no_of_female_not_survived)\n",
    "\n"
   ]
  },
  {
   "cell_type": "markdown",
   "id": "36a5345d-e61c-4db8-ad89-4f7e60712234",
   "metadata": {},
   "source": [
    "### Plotting"
   ]
  },
  {
   "cell_type": "code",
   "execution_count": 28,
   "id": "b0b47d63-b6b1-40f8-8bde-07f68a32ec85",
   "metadata": {},
   "outputs": [
    {
     "data": {
      "image/png": "[encoded data removed]",
      "text/plain": [
       "<Figure size 640x480 with 1 Axes>"
      ]
     },
     "metadata": {},
     "output_type": "display_data"
    }
   ],
   "source": [
    "x_axis = [0,1] \n",
    "\n",
    "# note we are making y axis two times\n",
    "y_survived = [ no_of_male_survived, no_of_female_survived ]\n",
    "y_not_survived = [ no_of_male_not_survivived, no_of_female_not_survived ]\n",
    "\n",
    "\n",
    "plt.bar(x_axis, y_survived, label=\"survived\" )\n",
    "plt.bar(x_axis, y_not_survived, label=\"not survived\", bottom=y_survived)\n",
    "\n",
    "plt.xticks(x_axis, ['Male', 'Female'])\n",
    "plt.title(\"Gender Vs Survival Rate\")\n",
    "\n",
    "plt.legend()\n",
    "plt.show()"
   ]
  },
  {
   "cell_type": "markdown",
   "id": "43c8ea1f-2711-415b-ade5-13c3e25561c2",
   "metadata": {},
   "source": [
    "## What is your understanding on the above graph\n",
    "\n",
    "- who survived mostly male or female\n",
    "- from the above who got most help to survive female or male (may be who are given first priority to help)\n",
    "\n",
    "### Question 11\n",
    "\n",
    "- Is there any relation with age and Survived?"
   ]
  },
  {
   "cell_type": "code",
   "execution_count": 29,
   "id": "48d918e9-f116-476c-bee8-e3e13f8f53a5",
   "metadata": {},
   "outputs": [
    {
     "data": {
      "image/png": "[encoded data removed]",
      "text/plain": [
       "<Figure size 640x480 with 1 Axes>"
      ]
     },
     "metadata": {},
     "output_type": "display_data"
    }
   ],
   "source": [
    "sns.kdeplot(data=df, x='Age', hue='Survived')\n",
    "plt.title(\"Age Distribution Vs Survived\")\n",
    "plt.show()"
   ]
  },
  {
   "cell_type": "code",
   "execution_count": 30,
   "id": "0bcd8f04-f3c5-4025-a17b-3184da33a29e",
   "metadata": {},
   "outputs": [
    {
     "ename": "SyntaxError",
     "evalue": "invalid syntax (1499617238.py, line 2)",
     "output_type": "error",
     "traceback": [
      "  \u001b[36mCell\u001b[39m\u001b[36m \u001b[39m\u001b[32mIn[30]\u001b[39m\u001b[32m, line 2\u001b[39m\n\u001b[31m    \u001b[39m\u001b[31mYounger passengers survive more compared to older passengers\u001b[39m\n            ^\n\u001b[31mSyntaxError\u001b[39m\u001b[31m:\u001b[39m invalid syntax\n"
     ]
    }
   ],
   "source": [
    "# Do you think age is having any relation with Survival rate if yes how if no why?\n",
    "Younger passengers survive more compared to older passengers"
   ]
  },
  {
   "cell_type": "code",
   "execution_count": null,
   "id": "2c522197-21d2-4525-ba4b-bbae812c0e6a",
   "metadata": {},
   "outputs": [],
   "source": []
  },
  {
   "cell_type": "markdown",
   "id": "c0664b86-002a-4fe5-9576-f391c558c248",
   "metadata": {},
   "source": [
    "### Question 12\n",
    "- There is a `Pclass` column in the dataframe, it is like our train ticket class 1st class (Rich) , 2nd class (Average), 3rd class (Normal)\n",
    "\n",
    "- Which class people are most survived and which class people are most not surved, Get teh answer from the below graph\n",
    "\n",
    "1st Class (Rich)\tMost survived\n",
    "3rd Class (Normal)\tMost not survived"
   ]
  },
  {
   "cell_type": "code",
   "execution_count": null,
   "id": "a5460c0f-0b55-4bef-84d8-d7d83d9f7991",
   "metadata": {},
   "outputs": [],
   "source": [
    "sns.kdeplot(data=df, x='Pclass', hue='Survived')\n",
    "plt.xticks([1,2,3])\n",
    "plt.show()"
   ]
  },
  {
   "cell_type": "markdown",
   "id": "93b36696-6624-45c4-a061-f0e7dfe27383",
   "metadata": {},
   "source": [
    "\n",
    "\n",
    "<h1 style=\"text-align:center\">---: The End :---</h1>\n"
   ]
  }
 ],
 "metadata": {
  "kernelspec": {
   "display_name": "Python 3 (ipykernel)",
   "language": "python",
   "name": "python3"
  },
  "language_info": {
   "codemirror_mode": {
    "name": "ipython",
    "version": 3
   },
   "file_extension": ".py",
   "mimetype": "text/x-python",
   "name": "python",
   "nbconvert_exporter": "python",
   "pygments_lexer": "ipython3",
   "version": "3.13.5"
  }
 },
 "nbformat": 4,
 "nbformat_minor": 5
}
