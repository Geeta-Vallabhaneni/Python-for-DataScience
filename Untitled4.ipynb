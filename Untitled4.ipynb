{
 "cells": [
  {
   "cell_type": "markdown",
   "id": "3b34a5a4-29bb-4eb5-898a-fb723fa1dc1a",
   "metadata": {},
   "source": [
    "### Quesiton 4\n",
    "\n",
    "creating a ATM, the ATM should follow the below rules\n",
    "\n",
    "- The minimum balance required to make transaction is 1000\n",
    "- user can withdraw only 10,000 per transaction\n",
    "- if the balance after withdraw less than 1000, the transaction should be declined\n",
    "- user can add any amount of data at a time to his account\n",
    "\n",
    "#### Inputs\n",
    "```\n",
    "existing_balance = 1500\n",
    "user_operatioin (string) = \"+500\" -> here + means it should perform deposit and show current balance\n",
    "\n",
    "---\n",
    "if\n",
    "user_operation (string) = \"-500\" -> here - means it should perform withdraw 500 and show current balance\n",
    "\n",
    "---\n",
    "if\n",
    "user_operation (string) = '-1500' -> this should display message \"ATM rule violation because 1500-1500 leads to zero balance min balance is 1000\"\n",
    "\n",
    "\n",
    "```"
   ]
  },
  {
   "cell_type": "code",
   "execution_count": null,
   "id": "723bdb8d-e805-4828-9dd9-b699766cf244",
   "metadata": {},
   "outputs": [],
   "source": [
    "  elif (i==\"-\")and(user_operation<limit):\n",
    "        current_balance =existing_balance-int(user_operation)\n",
    "        print(\"Withdraw Amount:\",int(user_operation))\n",
    "        print(\"Current Balance is:\",current_balance)\n",
    "        break\n",
    "    else:\n",
    "        print(\"ATM rule violation because 1500-1500 leads to zero balance min balance is 1000\")'''\n",
    "        \n"
   ]
  },
  {
   "cell_type": "code",
   "execution_count": 2,
   "id": "9b308485-54d6-47f0-9fe6-5d9b83ae2e2e",
   "metadata": {},
   "outputs": [],
   "source": [
    "#existing_balance = 1500\n",
    "\n",
    "#user_operation = \"+500\"\n",
    "\n",
    "# write your code here\n"
   ]
  },
  {
   "cell_type": "code",
   "execution_count": 64,
   "id": "ea4063f9-cb37-4b4a-8860-8eb3a43cbe6c",
   "metadata": {},
   "outputs": [
    {
     "name": "stdin",
     "output_type": "stream",
     "text": [
      "Enter amount: 8000\n"
     ]
    },
    {
     "name": "stdout",
     "output_type": "stream",
     "text": [
      "please make sure your entering correct amount.\n"
     ]
    }
   ],
   "source": [
    "existing_balance = 1500\n",
    "limit = 10000\n",
    "user_operation =input(\"Enter amount:\")\n",
    "for i in user_operation:\n",
    "    if (i==\"+\"):\n",
    "        amount =user_operation.replace(\"+\",\"\")\n",
    "        current_balance =existing_balance+int(amount)\n",
    "        print(\"Deposited Amount:\",int(user_operation))\n",
    "        print(\"Current Balance is:\",current_balance)\n",
    "        break\n",
    "    elif (i==\"-\")and(int(user_operation) < limit):\n",
    "        amount =user_operation.replace(\"-\",\"\")\n",
    "        Available_balance =existing_balance - int(amount)\n",
    "        if Available_balance>1000:\n",
    "            print(\"Withdraw Amount:\",int(user_operation))\n",
    "            print(\"Current Balance is:\",Available_balance)\n",
    "            break\n",
    "        else:\n",
    "            print(\"ATM rule violation because minimum balance is 1000\")\n",
    "\n",
    "    else:\n",
    "        print(\"please make sure your entered amount is correct amount.\")\n",
    "        break\n",
    "        \n",
    "\n",
    "      \n",
    "        \n",
    "        \n",
    "    \n",
    "\n",
    "    \n",
    "        \n"
   ]
  },
  {
   "cell_type": "code",
   "execution_count": 45,
   "id": "7d15df0d-e608-4406-8a3c-0375340d99c4",
   "metadata": {},
   "outputs": [
    {
     "name": "stdin",
     "output_type": "stream",
     "text": [
      "Enter amount: +60\n"
     ]
    },
    {
     "data": {
      "text/plain": [
       "'60'"
      ]
     },
     "execution_count": 45,
     "metadata": {},
     "output_type": "execute_result"
    }
   ],
   "source": [
    "user_operation =input(\"Enter amount:\")\n",
    "user_operation =user_operation.replace(\"+\",\"\")\n",
    "user_operation"
   ]
  },
  {
   "cell_type": "code",
   "execution_count": null,
   "id": "23334ace-ef0c-4401-af98-8d96e7b68101",
   "metadata": {},
   "outputs": [],
   "source": []
  }
 ],
 "metadata": {
  "kernelspec": {
   "display_name": "Python 3 (ipykernel)",
   "language": "python",
   "name": "python3"
  },
  "language_info": {
   "codemirror_mode": {
    "name": "ipython",
    "version": 3
   },
   "file_extension": ".py",
   "mimetype": "text/x-python",
   "name": "python",
   "nbconvert_exporter": "python",
   "pygments_lexer": "ipython3",
   "version": "3.13.5"
  }
 },
 "nbformat": 4,
 "nbformat_minor": 5
}
