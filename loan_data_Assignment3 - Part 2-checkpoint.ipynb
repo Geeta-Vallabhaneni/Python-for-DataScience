{
 "cells": [
  {
   "cell_type": "markdown",
   "id": "9237131b-713a-4dc6-ab11-050c1c2b9afb",
   "metadata": {},
   "source": [
    "# Samanyastra - Python For Data Science\n",
    "## Assignment 3\n",
    "---\n",
    "\n",
    "\n",
    "**Dataset Information**\n",
    "\n",
    "- Name: loan.csv\n",
    "- Rows: 614\n",
    "- columns: 13\n",
    "\n",
    "**Columns information (Data Dictionary)**\n",
    "```\n",
    "Loan_ID: A unique identifier for each loan applicant.\n",
    "\n",
    "Gender: Indicates the gender of the applicant Male or Female\n",
    "\n",
    "Married: Martial status (yes or No) .\n",
    "\n",
    "Dependents: Number of depends on the loan applicant\n",
    "\n",
    "Education: Education of the applicant in one word.\n",
    "\n",
    "Self_Employed: Indicates weather the person is self employed or not.\n",
    "\n",
    "ApplicantIncome: Net income per month of the applicant.\n",
    "\n",
    "CoapplicantIncome: The Co-Applicant net income per month\n",
    "\n",
    "LoanAmount: Loan approved or requested amount.\n",
    "\n",
    "Loan_Amount_Term: Loan tenure in days.\n",
    "\n",
    "Credit_History: Previous Credit History\n",
    "\n",
    "Property_Area: Indicates urban or rural\n",
    "\n",
    "Loan_Status: (Target column) Y Indicates approved, N indicates Not approved\n",
    "```"
   ]
  },
  {
   "cell_type": "code",
   "execution_count": null,
   "id": "0ac67f47-97aa-4a1d-9b76-2e58475a767d",
   "metadata": {},
   "outputs": [],
   "source": [
    "# for windows system\n",
    "!pip install pandas openpyxl seaborn matplotlib\n",
    "\n",
    "# for Mac/Linux system\n",
    "# !pip3 install pandas openpyxl seaborn matplotlib"
   ]
  },
  {
   "cell_type": "code",
   "execution_count": 1,
   "id": "dc6fa570-dac3-42a7-8a52-07f62aeed843",
   "metadata": {},
   "outputs": [],
   "source": [
    "# import statements\n",
    "\n",
    "import pandas as pd\n",
    "import seaborn as sns\n",
    "import matplotlib.pyplot as plt"
   ]
  },
  {
   "cell_type": "markdown",
   "id": "37342c33-5f2d-4e3b-aeca-4b5f71e20ca5",
   "metadata": {},
   "source": [
    "### Question 1 \n",
    "\n",
    "- Read the dataset and store it in `df` variable\n",
    "- **hint:** use read_csv method"
   ]
  },
  {
   "cell_type": "code",
   "execution_count": null,
   "id": "3d51e03c-54b1-4dfe-92f2-c06d4970a38b",
   "metadata": {},
   "outputs": [],
   "source": [
    "\n",
    "#write your code here\n",
    "df = pd.read_csv('loan.csv')"
   ]
  },
  {
   "cell_type": "code",
   "execution_count": null,
   "id": "ea2d31eb-2c91-42d2-a62e-ea7a03d1ea83",
   "metadata": {},
   "outputs": [],
   "source": []
  },
  {
   "cell_type": "markdown",
   "id": "d8116830-de80-4927-8d6e-a0babf14e1cb",
   "metadata": {},
   "source": [
    "### Question 2: \n",
    "- get the column names and store it in the `columns` variable"
   ]
  },
  {
   "cell_type": "code",
   "execution_count": null,
   "id": "34f27c8d-121b-44ff-92db-20fa314179ff",
   "metadata": {},
   "outputs": [],
   "source": [
    "#write your code here\n",
    "columns = "
   ]
  },
  {
   "cell_type": "code",
   "execution_count": null,
   "id": "b24d4d90-fd6d-412a-95e0-fa30c5fda925",
   "metadata": {},
   "outputs": [],
   "source": []
  },
  {
   "cell_type": "markdown",
   "id": "0a97e62a-b9c7-4d90-9477-f6b0f0ba7fb0",
   "metadata": {},
   "source": [
    "### Question 3:\n",
    "- What is the average applicant Income, Use `ApplicantIncome` column and store it in `avg_income` variable"
   ]
  },
  {
   "cell_type": "code",
   "execution_count": null,
   "id": "16f00f73-f649-4d5f-acb8-e73231135e44",
   "metadata": {},
   "outputs": [],
   "source": [
    "# Write your code here\n",
    "avg_income = \n"
   ]
  },
  {
   "cell_type": "code",
   "execution_count": null,
   "id": "63ee7814-7735-433b-8047-0069ba96492a",
   "metadata": {},
   "outputs": [],
   "source": []
  },
  {
   "cell_type": "markdown",
   "id": "504d9e6e-f3c2-4949-84cc-50cc8844863e",
   "metadata": {},
   "source": [
    "### Question 4: \n",
    "- Find how many Males and Females are there in dataset\n",
    "\n",
    "**hint:** Use `Gender` column with `value_counts`"
   ]
  },
  {
   "cell_type": "code",
   "execution_count": null,
   "id": "6448266f-ecc8-489b-9f11-dd9af0c9f57c",
   "metadata": {},
   "outputs": [],
   "source": [
    "# Write your code here"
   ]
  },
  {
   "cell_type": "code",
   "execution_count": null,
   "id": "6d09fa6d-62e3-4c03-84c6-9c5ee03738e0",
   "metadata": {},
   "outputs": [],
   "source": []
  },
  {
   "cell_type": "markdown",
   "id": "4fe8972a-ad08-42be-9071-d1fca35dd363",
   "metadata": {},
   "source": [
    "### Question 5:\n",
    "- using countplot from seaborn (sns) make the graph as shown below with `Gender` column\n",
    "\n",
    "<img src='./loan_gender.png' />"
   ]
  },
  {
   "cell_type": "code",
   "execution_count": null,
   "id": "9037826b-5f9b-49de-8e6c-cbc88c96bb86",
   "metadata": {},
   "outputs": [],
   "source": []
  },
  {
   "cell_type": "markdown",
   "id": "554f23b5-542f-4dfe-bb46-51d79500ee66",
   "metadata": {},
   "source": [
    "### Question 6\n",
    "- Make the pie chart as shown below for `Married` column with some hint code already given"
   ]
  },
  {
   "cell_type": "code",
   "execution_count": null,
   "id": "f71693ae-7948-4f06-abf1-f14ef07a9726",
   "metadata": {},
   "outputs": [],
   "source": [
    "married = df['Married'].value_counts()\n",
    "married"
   ]
  },
  {
   "cell_type": "code",
   "execution_count": null,
   "id": "ca28d9c3-d829-4de4-af92-6249383b8c56",
   "metadata": {},
   "outputs": [],
   "source": [
    "# hint: plt.pie(<data>.keys(), labels=<data>.values)\n",
    "# Write your code here"
   ]
  },
  {
   "cell_type": "code",
   "execution_count": null,
   "id": "5899798e-230c-4e64-a223-77c5717bb6ec",
   "metadata": {},
   "outputs": [],
   "source": []
  },
  {
   "cell_type": "markdown",
   "id": "d9e26506-b5fe-4bcf-a953-a36c2af15b73",
   "metadata": {},
   "source": [
    "\n",
    "\n",
    "### Question 7\n",
    "- Analyze number of dependents on the applicants and produce the below graph use `countplot` from sns on `Dependents` column\n",
    "\n",
    "<img src='./dependents.png' />"
   ]
  },
  {
   "cell_type": "code",
   "execution_count": null,
   "id": "12cc99cf-db3f-4465-8184-9b43bf0ca6d6",
   "metadata": {},
   "outputs": [],
   "source": [
    "# what did you understood by the graph give in one line"
   ]
  },
  {
   "cell_type": "code",
   "execution_count": null,
   "id": "bcf96f8b-7947-46c0-afb3-d06a14815456",
   "metadata": {},
   "outputs": [],
   "source": []
  },
  {
   "cell_type": "markdown",
   "id": "a62f39ed-fc69-4d44-ae38-625ae4ef72c5",
   "metadata": {},
   "source": [
    "### Question 8 - Bivariate Analysis\n",
    "- Does the Applicant income is related to Loan Status, See the below graph and comment your openion"
   ]
  },
  {
   "cell_type": "code",
   "execution_count": null,
   "id": "5618e6ac-7c7c-4b9f-9e41-be82fbc9d207",
   "metadata": {},
   "outputs": [],
   "source": [
    "sns.kdeplot(data=df, x='ApplicantIncome', hue='Loan_Status')\n",
    "plt.title(\"Loan Status W.r.t. Applicant Income\", fontsize=18)"
   ]
  },
  {
   "cell_type": "markdown",
   "id": "9c28cfcf-02f5-417c-bf3a-43e7a7c55777",
   "metadata": {},
   "source": [
    "### Question 9: \n",
    "- In the set of loan applicants does married and gender have any relation show a graph similar to below and answer\n",
    "\n",
    "<img src='gender_married.png' />\n",
    "\n",
    "**hint:** use countplot, with x='Gender', hue='Married'"
   ]
  },
  {
   "cell_type": "code",
   "execution_count": null,
   "id": "5b203802-0d92-48a8-8b29-332d84da6312",
   "metadata": {},
   "outputs": [],
   "source": [
    "# write your code here\n"
   ]
  },
  {
   "cell_type": "markdown",
   "id": "16b92b5a-8f34-41ff-88d0-c81530774b40",
   "metadata": {},
   "source": [
    "### Question 10: \n",
    "- Does Self employed people get loan easily? perform bivariate with countplot and get the plot and get the answer for this. "
   ]
  },
  {
   "cell_type": "code",
   "execution_count": null,
   "id": "6d946311-1ca4-408d-8703-bc39d6028482",
   "metadata": {},
   "outputs": [],
   "source": []
  },
  {
   "cell_type": "code",
   "execution_count": null,
   "id": "0a6621c7-327e-48c1-a32c-ebd2209e75d3",
   "metadata": {},
   "outputs": [],
   "source": []
  },
  {
   "cell_type": "code",
   "execution_count": null,
   "id": "0763ef72-0232-442b-b406-89cbeafc001d",
   "metadata": {},
   "outputs": [],
   "source": []
  },
  {
   "cell_type": "markdown",
   "id": "3c692a1b-adda-4237-9aa4-da64448d9664",
   "metadata": {},
   "source": [
    "<h1 style=\"text-align:center\">---: The End :--- </h1>"
   ]
  },
  {
   "cell_type": "code",
   "execution_count": null,
   "id": "d029553b-8c56-4db8-b018-47c6e8b9de3f",
   "metadata": {},
   "outputs": [],
   "source": []
  },
  {
   "cell_type": "code",
   "execution_count": null,
   "id": "fa59f337-0008-4455-af3e-11adc9fb6885",
   "metadata": {},
   "outputs": [],
   "source": []
  },
  {
   "cell_type": "code",
   "execution_count": null,
   "id": "af80525f-86ec-4fe7-8dad-9cad4d085931",
   "metadata": {},
   "outputs": [],
   "source": []
  },
  {
   "cell_type": "code",
   "execution_count": null,
   "id": "10234b2c-079a-4ef9-a3e0-d31ed694301d",
   "metadata": {},
   "outputs": [],
   "source": []
  },
  {
   "cell_type": "code",
   "execution_count": null,
   "id": "575bb045-4de5-4532-bb57-cb6bee8ea12f",
   "metadata": {},
   "outputs": [],
   "source": []
  }
 ],
 "metadata": {
  "kernelspec": {
   "display_name": "Python 3 (ipykernel)",
   "language": "python",
   "name": "python3"
  },
  "language_info": {
   "codemirror_mode": {
    "name": "ipython",
    "version": 3
   },
   "file_extension": ".py",
   "mimetype": "text/x-python",
   "name": "python",
   "nbconvert_exporter": "python",
   "pygments_lexer": "ipython3",
   "version": "3.13.5"
  }
 },
 "nbformat": 4,
 "nbformat_minor": 5
}
