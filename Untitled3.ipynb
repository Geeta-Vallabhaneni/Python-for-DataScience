{
 "cells": [
  {
   "cell_type": "code",
   "execution_count": 2,
   "id": "e53100aa-06d1-4663-a533-137d21ce5728",
   "metadata": {},
   "outputs": [
    {
     "name": "stdout",
     "output_type": "stream",
     "text": [
      "{'t': 4, 'h': 5, 'i': 7, 's': 5, ' ': 10, 'a': 7, 'm': 2, 'g': 2, 'c': 4, 'l': 1, 'r': 3, 'n': 3, 'w': 1, 'y': 1, 'e': 1}\n"
     ]
    }
   ],
   "source": [
    "# write code to get prime numbers between start to end, without writing the numbers in list explictly. \n",
    "# hint: use range\n",
    "\n",
    "\n",
    "#output = dict() #use this dictionary to store your values\n",
    "\n",
    "#write your code here\n",
    "sentence = \"This is a magical string which has many characters in it\"\n",
    "sentence=sentence.lower()\n",
    "output= dict()\n",
    "for i in sentence:\n",
    "    d = sentence.count(i)\n",
    "    output[i]=d\n",
    "print(output)\n",
    "\n"
   ]
  },
  {
   "cell_type": "code",
   "execution_count": 7,
   "id": "0beb1798-3335-475f-a1d6-39dce88d59a0",
   "metadata": {},
   "outputs": [
    {
     "name": "stdout",
     "output_type": "stream",
     "text": [
      "The prime numbers from 1 to 100\n",
      "2\n",
      "3\n",
      "5\n",
      "7\n",
      "11\n",
      "13\n",
      "17\n",
      "19\n",
      "23\n",
      "29\n",
      "31\n",
      "37\n",
      "41\n",
      "43\n",
      "47\n",
      "53\n",
      "59\n",
      "61\n",
      "67\n",
      "71\n",
      "73\n",
      "79\n",
      "83\n",
      "89\n",
      "97\n"
     ]
    }
   ],
   "source": [
    "#start = 1\n",
    "#end = 100\n",
    "#write your code here\n",
    "print(\"The prime numbers from 1 to 100\")\n",
    "for i in range(1,100):  \n",
    "    for j in range(2,100):\n",
    "        if i%j == 0:\n",
    "            break\n",
    "    if i == j:\n",
    "        print(i)\n",
    "\n",
    "           \n"
   ]
  },
  {
   "cell_type": "code",
   "execution_count": null,
   "id": "48b691ae-47c8-43f8-91b1-d0688ec38bf0",
   "metadata": {},
   "outputs": [],
   "source": []
  },
  {
   "cell_type": "code",
   "execution_count": 8,
   "id": "b3ed268a-a5e7-4946-98fe-f59e38e6597b",
   "metadata": {},
   "outputs": [
    {
     "name": "stdin",
     "output_type": "stream",
     "text": [
      "Enter a number: 7\n"
     ]
    },
    {
     "name": "stdout",
     "output_type": "stream",
     "text": [
      "Multiplication table of  7\n",
      "7 x 1 = 7\n",
      "7 x 2 = 14\n",
      "7 x 3 = 21\n",
      "7 x 4 = 28\n",
      "7 x 5 = 35\n",
      "7 x 6 = 42\n",
      "7 x 7 = 49\n",
      "7 x 8 = 56\n",
      "7 x 9 = 63\n",
      "7 x 10 = 70\n",
      "7 x 11 = 77\n",
      "7 x 12 = 84\n",
      "7 x 13 = 91\n",
      "7 x 14 = 98\n",
      "7 x 15 = 105\n",
      "7 x 16 = 112\n",
      "7 x 17 = 119\n",
      "7 x 18 = 126\n",
      "7 x 19 = 133\n",
      "7 x 20 = 140\n"
     ]
    }
   ],
   "source": [
    "n=int(input(\"Enter a number:\"))\n",
    "print(\"Multiplication table of \",n)\n",
    "for i in range(1,21):\n",
    "  print(n,'x',i,'=',n*i)\n"
   ]
  },
  {
   "cell_type": "code",
   "execution_count": 24,
   "id": "ece917c0-cbf0-4b2b-b18b-dc29b2c6753d",
   "metadata": {
    "scrolled": true
   },
   "outputs": [
    {
     "name": "stdout",
     "output_type": "stream",
     "text": [
      "{'student_1': 50, 'student_3': 75, 'student_4': 45}\n"
     ]
    }
   ],
   "source": [
    "#pass_marks = 30\n",
    "# write your code here\n",
    "students = {\n",
    "'student_1': 50,\n",
    "'student_2': 29,\n",
    "'student_3': 75,\n",
    "'student_4': 45,\n",
    "'student_5': 20\n",
    "}\n",
    "marks= dict()\n",
    "pass_marks = 30\n",
    "for i in students:\n",
    "    if students[i]>pass_marks:\n",
    "        marks[i]=students[i]\n",
    "print(marks)\n",
    "        \n"
   ]
  },
  {
   "cell_type": "code",
   "execution_count": 78,
   "id": "3aeca4ec-d6c6-48f5-bd5c-d5c36d625176",
   "metadata": {},
   "outputs": [
    {
     "name": "stdout",
     "output_type": "stream",
     "text": [
      "[5, 6, 11]\n"
     ]
    }
   ],
   "source": [
    "sentense = \"hello python programming\"\n",
    "sentense = sentense.split(' ')\n",
    "\n",
    "#len('hello')\n",
    "value= []\n",
    "for i in sentense:\n",
    "    value.append(len(i))\n",
    "print(value)\n",
    "   "
   ]
  },
  {
   "cell_type": "markdown",
   "id": "ecf94db0-dd4c-4499-b1ed-902a9ed7a023",
   "metadata": {},
   "source": [
    "### Quesiton 4\n",
    "creating a ATM, the ATM should follow the below rules\n",
    "\n",
    "- The minimum balance required to make transaction is 1000\n",
    "- user can withdraw only 10,000 per transaction\n",
    "- if the balance after withdraw less than 1000, the transaction should be declined\n",
    "- user can add any amount of data at a time to his account\n",
    "\n",
    "#### Inputs\n",
    "```\n",
    "existing_balance = 1500\n",
    "user_operatioin (string) = \"+500\" -> here + means it should perform deposit and show current balance\n",
    "\n",
    "---\n",
    "if\n",
    "user_operation (string) = \"-500\" -> here - means it should perform withdraw 500 and show current balance\n",
    "\n",
    "---\n",
    "if\n",
    "user_operation (string) = '-1500' -> this should display message \"ATM rule violation because 1500-1500 leads to zero balance min balance is 1000\"\n",
    "\n",
    "#existing_balance = 1500\n",
    "\n",
    "#user_operation = \"+500\"\n",
    "\n",
    "# write your code here"
   ]
  },
  {
   "cell_type": "code",
   "execution_count": 10,
   "id": "8d710841-4186-45bb-8bd4-6d10c38c1198",
   "metadata": {},
   "outputs": [
    {
     "name": "stdin",
     "output_type": "stream",
     "text": [
      "Enter amount: -9000\n"
     ]
    },
    {
     "name": "stdout",
     "output_type": "stream",
     "text": [
      "ATM rule violation because minimum balance is 1000\n",
      "please make sure you are entering correct amount.\n"
     ]
    }
   ],
   "source": [
    "existing_balance = 1500\n",
    "user_operation =input(\"Enter amount:\")\n",
    "for i in user_operation:\n",
    "    if (i==\"+\"):\n",
    "        amount =user_operation.replace(\"+\",\"\")\n",
    "        current_balance =existing_balance+int(amount)\n",
    "        print(\"Deposited Amount:\",int(user_operation))\n",
    "        print(\"Current Balance is:\",current_balance)\n",
    "        break\n",
    "    elif (i==\"-\")and(int(user_operation) < 10000):\n",
    "        amount =user_operation.replace(\"-\",\"\")\n",
    "        Available_balance =existing_balance - int(amount)\n",
    "        if Available_balance>=1000:\n",
    "            print(\"Withdraw Amount:\",int(user_operation))\n",
    "            print(\"Current Balance is:\",Available_balance)\n",
    "            break\n",
    "        else:\n",
    "            print(\"ATM rule violation because minimum balance is 1000\")\n",
    "\n",
    "    else:\n",
    "        print(\"please make sure you are entering correct amount.\")\n",
    "        break"
   ]
  },
  {
   "cell_type": "code",
   "execution_count": null,
   "id": "9574e2f8-419d-4f8a-b168-9f85b3a95940",
   "metadata": {},
   "outputs": [],
   "source": []
  }
 ],
 "metadata": {
  "kernelspec": {
   "display_name": "Python 3 (ipykernel)",
   "language": "python",
   "name": "python3"
  },
  "language_info": {
   "codemirror_mode": {
    "name": "ipython",
    "version": 3
   },
   "file_extension": ".py",
   "mimetype": "text/x-python",
   "name": "python",
   "nbconvert_exporter": "python",
   "pygments_lexer": "ipython3",
   "version": "3.13.5"
  }
 },
 "nbformat": 4,
 "nbformat_minor": 5
}
