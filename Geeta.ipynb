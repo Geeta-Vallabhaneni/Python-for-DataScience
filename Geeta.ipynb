{
 "cells": [
  {
   "cell_type": "code",
   "execution_count": 1,
   "id": "be87eb3b-08a0-41d3-9c2c-7d2723c395e4",
   "metadata": {},
   "outputs": [],
   "source": [
    "# simply run this cell\n",
    "sentence = \"The,re are soo many ',' ins,ide thi,s se,ntence, pl,ease remo,ve these, comma,s to make, it reada,ble and me,aning,fu,l\""
   ]
  },
  {
   "cell_type": "code",
   "execution_count": 2,
   "id": "02937817-c71d-4b57-a8ef-ac04cd796c04",
   "metadata": {},
   "outputs": [],
   "source": [
    "# Question 1\n",
    "# using string methods to count how many commas (,) are there in the above sentence "
   ]
  },
  {
   "cell_type": "code",
   "execution_count": 3,
   "id": "1358dbe5-e20c-4ec3-8ca9-1b149f1b5bfe",
   "metadata": {},
   "outputs": [
    {
     "data": {
      "text/plain": [
       "15"
      ]
     },
     "execution_count": 3,
     "metadata": {},
     "output_type": "execute_result"
    }
   ],
   "source": [
    "sentence.count(',')"
   ]
  },
  {
   "cell_type": "code",
   "execution_count": 7,
   "id": "f6e49489-37cf-4e0a-89df-f1b87e17a8db",
   "metadata": {},
   "outputs": [],
   "source": [
    "# Question 2\n",
    "# remove all the commas in the above sentence and store with same variable name\n",
    "sentence=sentence.replace(',',\"\")"
   ]
  },
  {
   "cell_type": "code",
   "execution_count": 8,
   "id": "53c62f8d-6c92-4016-8196-1e5b53800188",
   "metadata": {},
   "outputs": [
    {
     "data": {
      "text/plain": [
       "\"There are soo many '' inside this sentence please remove these commas to make it readable and meaningful\""
      ]
     },
     "execution_count": 8,
     "metadata": {},
     "output_type": "execute_result"
    }
   ],
   "source": [
    "sentence"
   ]
  },
  {
   "cell_type": "code",
   "execution_count": 9,
   "id": "9a4fd414-4e08-4722-be0a-9dcb2bc4a25f",
   "metadata": {},
   "outputs": [],
   "source": [
    "# Question 3\n",
    "# convert the sentence after removing commas to list separated by space \" \" \n",
    "# hint use split() method in string"
   ]
  },
  {
   "cell_type": "code",
   "execution_count": 11,
   "id": "84801929-cee6-4873-9092-a8a652de3648",
   "metadata": {},
   "outputs": [
    {
     "data": {
      "text/plain": [
       "['There',\n",
       " 'are',\n",
       " 'soo',\n",
       " 'many',\n",
       " \"''\",\n",
       " 'inside',\n",
       " 'this',\n",
       " 'sentence',\n",
       " 'please',\n",
       " 'remove',\n",
       " 'these',\n",
       " 'commas',\n",
       " 'to',\n",
       " 'make',\n",
       " 'it',\n",
       " 'readable',\n",
       " 'and',\n",
       " 'meaningful']"
      ]
     },
     "execution_count": 11,
     "metadata": {},
     "output_type": "execute_result"
    }
   ],
   "source": [
    "sentence.split()"
   ]
  },
  {
   "cell_type": "code",
   "execution_count": 12,
   "id": "3b749c2a-ff84-4dea-9a43-fe625c2b4b67",
   "metadata": {},
   "outputs": [],
   "source": [
    "# simply run this cell\n",
    "wording = \"India is my country, in INDIA everyone is treated as equal. IndIA has a unique nature of Unity in Diversity nature. IndiA has its own flavour of taste, choice and culture.\""
   ]
  },
  {
   "cell_type": "code",
   "execution_count": 14,
   "id": "5d9ab161-685e-4ea0-b060-d7d45f9810cb",
   "metadata": {},
   "outputs": [
    {
     "data": {
      "text/plain": [
       "4"
      ]
     },
     "execution_count": 14,
     "metadata": {},
     "output_type": "execute_result"
    }
   ],
   "source": [
    "# Question 4\n",
    "# how many times the word INDIA  / india has come in the sentence. Please note the casing is different each time\n",
    "wording.lower().count(\"india\")"
   ]
  },
  {
   "cell_type": "code",
   "execution_count": 19,
   "id": "22c183dd-3c12-4b3f-92e2-748af4dab19e",
   "metadata": {},
   "outputs": [],
   "source": [
    "# Simply run this cell\n",
    "word = \"Mbabgaiaca aoafa apayatahaoana\"\n",
    "#`Priti` and `You` are cybersecurity warriors, so you both don't communicate normally. Whenver `Priti` sends you a message it is encrypted with a key (number). If you use the number and pass right `step` value in `slicing` the message you will get the message decoded. \\\n",
    "\n",
    "#**Can you find out the step key and complete the below code to get the message?**"
   ]
  },
  {
   "cell_type": "code",
   "execution_count": 11,
   "id": "bae27e87-773a-4837-a017-608dc3d63187",
   "metadata": {},
   "outputs": [
    {
     "name": "stdout",
     "output_type": "stream",
     "text": [
      "Magic of python\n"
     ]
    }
   ],
   "source": [
    "# Quesiton 5\n",
    "# Give right values for the start, end and step to get the message \n",
    "word = \"Mbabgaiaca aoafa apayatahaoana\"\n",
    "start = 0\n",
    "end = len(word)\n",
    "step = 2\n",
    "message = word[start:end:step]\n",
    "print(message)"
   ]
  },
  {
   "cell_type": "markdown",
   "id": "8a823f99-89fc-4457-865d-8d34a13d65b3",
   "metadata": {},
   "source": [
    "#### Question 6\n",
    "\n",
    "### **Problem Statement: Personalized Greeting with Age Forecast**\n",
    "\n",
    "Write a program that takes two user inputs:\n",
    "\n",
    "* **Name** (a string)\n",
    "* **Age** (an integer)\n",
    "\n",
    "The program should:\n",
    "\n",
    "1. Print a **personalized greeting** using the name.\n",
    "2. Perform an **arithmetic operation** on the age — Calculate how old the person will be **in 10 years**.\n",
    "3. Display this calculated age in a friendly message.\n",
    "\n",
    "---\n",
    "\n",
    "### **Sample Input:**\n",
    "\n",
    "```\n",
    "Enter your name: Piyusha\n",
    "Enter your age: 15\n",
    "```\n",
    "\n",
    "### **Sample Output:**\n",
    "\n",
    "```\n",
    "Hello Piyusha! Nice to meet you.\n",
    "Did you know you'll be 25 years old in 10 years?\n",
    "```\n",
    "#### Question 6\n",
    "\n",
    "### **Problem Statement: Personalized Greeting with Age Forecast**\n",
    "\n",
    "Write a program that takes two user inputs:\n",
    "\n",
    "* **Name** (a string)\n",
    "* **Age** (an integer)\n",
    "\n",
    "The program should:\n",
    "\n",
    "1. Print a **personalized greeting** using the name.\n",
    "2. Perform an **arithmetic operation** on the age — Calculate how old the person will be **in 10 years**.\n",
    "3. Display this calculated age in a friendly message.\n",
    "\n",
    "---\n",
    "\n",
    "### **Sample Input:**\n",
    "\n",
    "```\n",
    "Enter your name: Piyusha\n",
    "Enter your age: 15\n",
    "```\n",
    "\n",
    "### **Sample Output:**\n",
    "\n",
    "```\n",
    "Hello Piyusha! Nice to meet you.\n",
    "Did you know you'll be 25 years old in 10 years?\n",
    "```\n"
   ]
  },
  {
   "cell_type": "code",
   "execution_count": 7,
   "id": "5bf05481-624d-4a6c-81e0-cf59fc670b44",
   "metadata": {},
   "outputs": [
    {
     "name": "stdin",
     "output_type": "stream",
     "text": [
      "Enter your name: Geeta\n",
      "Enter your age: 12\n"
     ]
    },
    {
     "name": "stdout",
     "output_type": "stream",
     "text": [
      "Hello Geeta ! Nice to meet you.\n",
      "Did you know you'll be 22  years old in 10 years?\n"
     ]
    }
   ],
   "source": [
    "Name=input(\"Enter your name:\")\n",
    "Age=int(input(\"Enter your age:\"))\n",
    "Age+=10\n",
    "print(\"Hello\",Name,\"! Nice to meet you.\")\n",
    "print(\"Did you know you'll be\",Age,\" years old in 10 years?\")"
   ]
  },
  {
   "cell_type": "code",
   "execution_count": null,
   "id": "f30feb4a-063e-4047-bc35-77b99bddbf9d",
   "metadata": {},
   "outputs": [],
   "source": []
  }
 ],
 "metadata": {
  "kernelspec": {
   "display_name": "Python 3 (ipykernel)",
   "language": "python",
   "name": "python3"
  },
  "language_info": {
   "codemirror_mode": {
    "name": "ipython",
    "version": 3
   },
   "file_extension": ".py",
   "mimetype": "text/x-python",
   "name": "python",
   "nbconvert_exporter": "python",
   "pygments_lexer": "ipython3",
   "version": "3.13.5"
  }
 },
 "nbformat": 4,
 "nbformat_minor": 5
}
