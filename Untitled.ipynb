{
 "cells": [
  {
   "cell_type": "code",
   "execution_count": 4,
   "id": "f655c7a4-e484-4a4c-bc9b-36c042e621ca",
   "metadata": {},
   "outputs": [],
   "source": [
    "sentence = \"The,re are soo many ',' ins,ide thi,s se,ntence, pl,ease remo,ve these, comma,s to make, it reada,ble and me,aning,fu,l\""
   ]
  },
  {
   "cell_type": "code",
   "execution_count": 5,
   "id": "200ca7d3-6f36-4edb-bce0-5fa5af6c1fc8",
   "metadata": {},
   "outputs": [
    {
     "data": {
      "text/plain": [
       "15"
      ]
     },
     "execution_count": 5,
     "metadata": {},
     "output_type": "execute_result"
    }
   ],
   "source": [
    "# Question 1\n",
    "# using string methods to count how many commas (,) are there in the above sentence \n",
    "sentence.count(',')"
   ]
  },
  {
   "cell_type": "code",
   "execution_count": 6,
   "id": "00771ef3-9439-43ca-a7c8-2de956976f71",
   "metadata": {},
   "outputs": [],
   "source": [
    "# Question 2\n",
    "# remove all the commas in the above sentence and store with same variable name"
   ]
  },
  {
   "cell_type": "code",
   "execution_count": 7,
   "id": "630eb81d-6d6e-4bbc-9c09-edb256f336f7",
   "metadata": {},
   "outputs": [
    {
     "data": {
      "text/plain": [
       "['__add__',\n",
       " '__class__',\n",
       " '__contains__',\n",
       " '__delattr__',\n",
       " '__dir__',\n",
       " '__doc__',\n",
       " '__eq__',\n",
       " '__format__',\n",
       " '__ge__',\n",
       " '__getattribute__',\n",
       " '__getitem__',\n",
       " '__getnewargs__',\n",
       " '__getstate__',\n",
       " '__gt__',\n",
       " '__hash__',\n",
       " '__init__',\n",
       " '__init_subclass__',\n",
       " '__iter__',\n",
       " '__le__',\n",
       " '__len__',\n",
       " '__lt__',\n",
       " '__mod__',\n",
       " '__mul__',\n",
       " '__ne__',\n",
       " '__new__',\n",
       " '__reduce__',\n",
       " '__reduce_ex__',\n",
       " '__repr__',\n",
       " '__rmod__',\n",
       " '__rmul__',\n",
       " '__setattr__',\n",
       " '__sizeof__',\n",
       " '__str__',\n",
       " '__subclasshook__',\n",
       " 'capitalize',\n",
       " 'casefold',\n",
       " 'center',\n",
       " 'count',\n",
       " 'encode',\n",
       " 'endswith',\n",
       " 'expandtabs',\n",
       " 'find',\n",
       " 'format',\n",
       " 'format_map',\n",
       " 'index',\n",
       " 'isalnum',\n",
       " 'isalpha',\n",
       " 'isascii',\n",
       " 'isdecimal',\n",
       " 'isdigit',\n",
       " 'isidentifier',\n",
       " 'islower',\n",
       " 'isnumeric',\n",
       " 'isprintable',\n",
       " 'isspace',\n",
       " 'istitle',\n",
       " 'isupper',\n",
       " 'join',\n",
       " 'ljust',\n",
       " 'lower',\n",
       " 'lstrip',\n",
       " 'maketrans',\n",
       " 'partition',\n",
       " 'removeprefix',\n",
       " 'removesuffix',\n",
       " 'replace',\n",
       " 'rfind',\n",
       " 'rindex',\n",
       " 'rjust',\n",
       " 'rpartition',\n",
       " 'rsplit',\n",
       " 'rstrip',\n",
       " 'split',\n",
       " 'splitlines',\n",
       " 'startswith',\n",
       " 'strip',\n",
       " 'swapcase',\n",
       " 'title',\n",
       " 'translate',\n",
       " 'upper',\n",
       " 'zfill']"
      ]
     },
     "execution_count": 7,
     "metadata": {},
     "output_type": "execute_result"
    }
   ],
   "source": [
    "dir(sentence)"
   ]
  },
  {
   "cell_type": "code",
   "execution_count": 8,
   "id": "02027a16-605b-4a8e-8f0c-d0559cea10d3",
   "metadata": {},
   "outputs": [
    {
     "data": {
      "text/plain": [
       "\"There are soo many '' inside this sentence please remove these commas to make it readable and meaningful\""
      ]
     },
     "execution_count": 8,
     "metadata": {},
     "output_type": "execute_result"
    }
   ],
   "source": [
    "sentence.replace(',','')"
   ]
  },
  {
   "cell_type": "code",
   "execution_count": 9,
   "id": "c208a975-734a-4561-a339-dd6b8f894bbb",
   "metadata": {},
   "outputs": [
    {
     "data": {
      "text/plain": [
       "\"The,re are soo many ',' ins,ide thi,s se,ntence, pl,ease remo,ve these, comma,s to make, it reada,ble and me,aning,fu,l\""
      ]
     },
     "execution_count": 9,
     "metadata": {},
     "output_type": "execute_result"
    }
   ],
   "source": [
    "sentence"
   ]
  },
  {
   "cell_type": "code",
   "execution_count": 10,
   "id": "cca871f9-b8c4-4374-9e30-c6f3e5980cff",
   "metadata": {},
   "outputs": [],
   "source": [
    "sentence=sentence.replace(',','')"
   ]
  },
  {
   "cell_type": "code",
   "execution_count": 11,
   "id": "2090d324-c4be-4975-befe-2fbb562cc6c9",
   "metadata": {},
   "outputs": [
    {
     "data": {
      "text/plain": [
       "\"There are soo many '' inside this sentence please remove these commas to make it readable and meaningful\""
      ]
     },
     "execution_count": 11,
     "metadata": {},
     "output_type": "execute_result"
    }
   ],
   "source": [
    "sentence"
   ]
  },
  {
   "cell_type": "code",
   "execution_count": 12,
   "id": "a6438761-8494-4efd-9654-4006e750fcc1",
   "metadata": {},
   "outputs": [],
   "source": [
    "# Question 3\n",
    "# convert the sentence after removing commas to list separated by space \" \" \n",
    "# hint use split() method in string"
   ]
  },
  {
   "cell_type": "code",
   "execution_count": 13,
   "id": "e6600963-b6d5-4282-a926-dae4039ffefe",
   "metadata": {},
   "outputs": [
    {
     "data": {
      "text/plain": [
       "['There',\n",
       " 'are',\n",
       " 'soo',\n",
       " 'many',\n",
       " \"''\",\n",
       " 'inside',\n",
       " 'this',\n",
       " 'sentence',\n",
       " 'please',\n",
       " 'remove',\n",
       " 'these',\n",
       " 'commas',\n",
       " 'to',\n",
       " 'make',\n",
       " 'it',\n",
       " 'readable',\n",
       " 'and',\n",
       " 'meaningful']"
      ]
     },
     "execution_count": 13,
     "metadata": {},
     "output_type": "execute_result"
    }
   ],
   "source": [
    "sentence.split(' ')"
   ]
  },
  {
   "cell_type": "code",
   "execution_count": 20,
   "id": "ba67a411-de35-4c8a-8231-9104e8821a5d",
   "metadata": {},
   "outputs": [],
   "source": [
    "# simply run this cell\n",
    "wording = \"India is my country, in INDIA everyone is treated as equal. IndIA has a unique nature of Unity in Diversity nature. IndiA has its own flavour of taste, choice and culture.\""
   ]
  },
  {
   "cell_type": "code",
   "execution_count": 15,
   "id": "a6785803-8a2c-44f6-bb25-2ead9120121c",
   "metadata": {},
   "outputs": [],
   "source": [
    "# Question 4\n",
    "# how many times the word INDIA  / india has come in the sentence. Please note the casing is different each time"
   ]
  },
  {
   "cell_type": "code",
   "execution_count": 21,
   "id": "23baaecd-adac-4abd-9cb2-15081b75f9a9",
   "metadata": {},
   "outputs": [
    {
     "data": {
      "text/plain": [
       "4"
      ]
     },
     "execution_count": 21,
     "metadata": {},
     "output_type": "execute_result"
    }
   ],
   "source": [
    "words = wording.lower().split()\n",
    "count = sum(1 for word in words if word.strip(\".,\") == \"india\")\n",
    "count"
   ]
  },
  {
   "cell_type": "code",
   "execution_count": null,
   "id": "9995b2d8-5e95-4034-b852-1309f78751ef",
   "metadata": {},
   "outputs": [],
   "source": []
  },
  {
   "cell_type": "code",
   "execution_count": null,
   "id": "2e1b86a5-6802-4d30-9dc6-2b6ea541b86e",
   "metadata": {},
   "outputs": [],
   "source": []
  }
 ],
 "metadata": {
  "kernelspec": {
   "display_name": "Python 3 (ipykernel)",
   "language": "python",
   "name": "python3"
  },
  "language_info": {
   "codemirror_mode": {
    "name": "ipython",
    "version": 3
   },
   "file_extension": ".py",
   "mimetype": "text/x-python",
   "name": "python",
   "nbconvert_exporter": "python",
   "pygments_lexer": "ipython3",
   "version": "3.13.5"
  }
 },
 "nbformat": 4,
 "nbformat_minor": 5
}
